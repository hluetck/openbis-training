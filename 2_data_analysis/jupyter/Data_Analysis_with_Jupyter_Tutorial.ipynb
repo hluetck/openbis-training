{
 "cells": [
  {
   "cell_type": "markdown",
   "metadata": {},
   "source": [
    "# Why Jupyter?\n",
    "\n",
    "## Coding Python in a text editor\n",
    "\n",
    "I would like to create a plot using Python. To do this with, I wrote a script called `plot_array.py` in which I defined arrays `a=[0, 1, 2, ... , 9]` and `b=a*5`, and plot a graph. Then, I execute the script with command line in a terminal. The script showed the plot in a separate window. As you can see, here I have already three graphical user interfaces.\n",
    "\n",
    "<p style=\"text-align:center;\"><img src=\"images/python_in_text_editor.png\" width=\"800\" height=auto /></p>\n"
   ]
  },
  {
   "cell_type": "markdown",
   "metadata": {},
   "source": [
    "## Coding Python in a Jupyter notebook\n",
    "\n",
    "With a Jupyter notebook, we can add code blocks with Python commands and text description. Then, we can execute the code and the plot is shown within the same Jupyter notebook."
   ]
  },
  {
   "cell_type": "code",
   "execution_count": 1,
   "metadata": {},
   "outputs": [],
   "source": [
    "import numpy as np\n",
    "import matplotlib.pyplot as plt\n",
    "\n",
    "%matplotlib inline"
   ]
  },
  {
   "cell_type": "markdown",
   "metadata": {},
   "source": [
    "Define the Python array `a`:"
   ]
  },
  {
   "cell_type": "code",
   "execution_count": 2,
   "metadata": {},
   "outputs": [
    {
     "name": "stdout",
     "output_type": "stream",
     "text": [
      "[0 1 2 3 4 5 6 7 8 9]\n"
     ]
    }
   ],
   "source": [
    "a = np.arange(10)\n",
    "print(a)"
   ]
  },
  {
   "cell_type": "markdown",
   "metadata": {},
   "source": [
    "Compute the array $b = a^3 + 5a -7$:"
   ]
  },
  {
   "cell_type": "code",
   "execution_count": 3,
   "metadata": {},
   "outputs": [
    {
     "name": "stdout",
     "output_type": "stream",
     "text": [
      "[ -7  -1  11  35  77 143 239 371 545 767]\n"
     ]
    }
   ],
   "source": [
    "b = a**3+a*5-7\n",
    "print(b)"
   ]
  },
  {
   "cell_type": "markdown",
   "metadata": {},
   "source": [
    "Plot a graph of these arrays"
   ]
  },
  {
   "cell_type": "code",
   "execution_count": 4,
   "metadata": {},
   "outputs": [
    {
     "data": {
      "image/png": "[encoded data removed]",
      "text/plain": [
       "<Figure size 432x288 with 1 Axes>"
      ]
     },
     "metadata": {
      "needs_background": "light"
     },
     "output_type": "display_data"
    }
   ],
   "source": [
    "plt.plot(a,b, \"ro-\")\n",
    "plt.show()"
   ]
  },
  {
   "cell_type": "markdown",
   "metadata": {},
   "source": [
    "As we can combine coding, documenting and executing codes, we can develop a program interactively and maintain documentation at the same time. We can also share Jupyter notebook containing all the code and description which help collaborator to understand and reproduce the results. The Jupyter notebook is also not limited only to Python but supports over 40 programming languages including R, Julia and Scala."
   ]
  },
  {
   "cell_type": "markdown",
   "metadata": {},
   "source": [
    "## Use Jupyter\n",
    "\n",
    "### Local installation \n",
    "\n",
    "**Jupyter Notebook** is a web-based application. Each notebook has its own tab on a web browser.\n",
    " \n",
    "<table>\n",
    "    <tr><td style=\"align: center\"><img src=\"https://jupyter.org/assets/homepage/jupyterpreview.png\" width=\"600px\"></td></tr>\n",
    "    <tr><td><center><sub>Source: <a href=\"https://jupyter.org/\">https://jupyter.org/</a></sub></center></td></tr>\n",
    "</table>\n",
    "\n",
    "**Jupyter Lab** is the next-generation Jupyter user interface which includes notebooks. Each notebook is a tab in this application giving an IDE-like user experience. \n",
    "\n",
    "<table>\n",
    "    <tr><td style=\"align: center\"><img src=\"https://jupyter.org/assets/homepage/labpreview.png\" width=\"600px\"></td></tr>\n",
    "    <tr><td><center><sub>Source: <a href=\"https://jupyter.org/\">https://jupyter.org/</a></sub></center></td></tr>\n",
    "</table>"
   ]
  },
  {
   "cell_type": "markdown",
   "metadata": {},
   "source": [
    "#### Install Jupyter\n",
    "\n",
    "* Option 1: Anaconda includes Python, Jupyter, Python packages for scientific computing and data science.\n",
    "    * [Download Anaconda with Python3](https://www.anaconda.com/products/individual)\n",
    "    * Install Anaconda\n",
    "    <br>\n",
    "    \n",
    "* Option 2: Using `pip`\n",
    "    * [Download Python3](https://www.python.org/downloads/)\n",
    "    * Install Python3\n",
    "    * In a terminal, execute this command:\n",
    "    <br>\n",
    "    \n",
    "```bash\n",
    "$ pip install jupyterlab \n",
    "```"
   ]
  },
  {
   "cell_type": "markdown",
   "metadata": {},
   "source": [
    "#### Run Jupyter\n",
    "* Run Jupyter Lab\n",
    "\n",
    "    ```bash\n",
    "    $ jupyter-lab\n",
    "    ```\n",
    "   <br>\n",
    "\n",
    "* Run Jupyter Notebook\n",
    "\n",
    "    ```bash\n",
    "    $ jupyter-nbclassic\n",
    "    ```"
   ]
  },
  {
   "cell_type": "markdown",
   "metadata": {},
   "source": [
    "### JupyterHub \n",
    "JupyterHub is to provide Jupyter notebook for multi users, e.g., a class of students or a research group. JupyterHub has distributions to run on a server or on a cloud provider. An administrator of the Hub sets up the notebook environment for all users.\n",
    "\n",
    "<table>\n",
    "    <tr><td style=\"align: center\"><img src=\"https://jupyterhub.readthedocs.io/en/stable/_images/jhub-fluxogram.jpeg\" width=\"600px\"></td></tr>\n",
    "    <tr><td><center><sub>Source: <a href=\"https://jupyterhub.readthedocs.io/en/stable/\">https://jupyterhub.readthedocs.io/</a></sub></center></td></tr>\n",
    "</table>\n",
    "\n",
    "### Public cloud-based services\n",
    "* [Google Colab](https://colab.research.google.com/notebooks/intro.ipynb#)\n",
    "* [MyBinder](https://mybinder.org/) \n",
    "* [EGI Notebooks](https://www.egi.eu/services/notebooks/)"
   ]
  },
  {
   "cell_type": "markdown",
   "metadata": {},
   "source": [
    "# openBIS & Jupyter\n",
    "\n",
    "Here we would like to demonstrate how to connect an openBIS server with Jupyter in which you can interactively perform data analysis."
   ]
  },
  {
   "cell_type": "markdown",
   "metadata": {},
   "source": [
    "**Option 1: From openBIS to JupyterHub Server**\n",
    "<br>\n",
    "<br>\n",
    "<p style=\"text-align:center;\"><img src=\"images/option2.png\" width=\"600\" height=auto /></p>\n",
    "<br>"
   ]
  },
  {
   "cell_type": "markdown",
   "metadata": {},
   "source": [
    "**Option 2: From locally-installed Jupyter to openBIS**\n",
    "<br>\n",
    "<br>\n",
    "<p style=\"text-align:center;\"><img src=\"images/option1.png\" width=\"600\" height=auto /></p>"
   ]
  },
  {
   "cell_type": "markdown",
   "metadata": {},
   "source": [
    "## Download the openbis-training repository\n",
    "\n",
    "Link to the repository: `https://gitlab.ethz.ch/sis-rdm-training/openbis-training` \n",
    "\n",
    "* Option 1: Go to the repository and download the source code as a `zip` file \n",
    "\n",
    "<p style=\"text-align:center;\"><img src=\"images/download_repo.png\" width=\"600\" height=auto /></p>\n",
    "\n",
    "* Option 2: Clone the repository with `git`. In a terminal, execute this command:\n",
    "\n",
    "```bash\n",
    "$ git clone https://gitlab.ethz.ch/sis-rdm-training/openbis-training.git\n",
    "```\n",
    "    \n",
    "* Option 3: update the repository if you have already cloned the `openbis-training` folder\n",
    "\n",
    "```bash\n",
    "$ cd openbis-training\n",
    "$ git pull origin master\n",
    "```"
   ]
  },
  {
   "cell_type": "markdown",
   "metadata": {},
   "source": [
    "## Prepare a project on openBIS\n",
    "\n",
    "* On a browser, go to https://openbis-training.ethz.ch/openbis/webapp/eln-lims/\n",
    "* Go to openBIS Lab Notebook > My Space\n",
    "* Create a new project `+ New project`\n",
    "    * Code(*): Training\n",
    "    * Click `Save`\n",
    "* Click on the project `Training` \n",
    "    * Create an experiment `+ New` > `Default Experiment`\n",
    "    * Code(*): JUPYTER-DEMO\n",
    "    * Click `Save`\n",
    "* Click on the experiment `JUPYTER-DEMO` \n",
    "    * Create an experiment step `+ New` > `Experimental Step`\n",
    "    * Click on the drop down box `More...`\n",
    "    * Select `Show Identification Info`\n",
    "    * Code(*): JUPYTER-DEMO\n",
    "    * Click `Save`\n",
    "* Click on the experimental step `JUPYTER-DEMO`, upload a file, click on `Upload`\n",
    "    * Data Set Type(*): Raw Data\n",
    "    * Click on `Select files to upload` at the bottom of the page\n",
    "    * Select the file `dog_read1.fasta.txt`\n",
    "    * Click `Save`"
   ]
  },
  {
   "cell_type": "markdown",
   "metadata": {},
   "source": [
    "## Demo 1: From openBIS to JupyterHub Server"
   ]
  },
  {
   "cell_type": "markdown",
   "metadata": {},
   "source": [
    "### Open a Jupyter notebook from openBIS\n",
    "\n",
    "* In openBIS lab notebook, click on the experimental step `JUPYTER-DEMO`\n",
    "* Click on `More...`\n",
    "* Select `New Jupyter notebook`\n",
    "* Press `Create & connect`\n",
    "* In the next widget, fill in\n",
    "    * **Directory Name**: training\n",
    "    * **Notebook Name**: openBIS_to_Jupyter_Demo_Notebook\n",
    "* Press `Accept & Open`\n",
    "* Login to Jupyter Hub with your username and password"
   ]
  },
  {
   "cell_type": "markdown",
   "metadata": {},
   "source": [
    "### Connect and download a dataset\n",
    "\n",
    "* Execute the first three cells (`fileName`, `resultDatasetParents` and `resultDatasetHistoryID`) in the beginning of the notebook\n",
    "\n",
    "* Define `resultDatasetName` and `resultDatasetNotes`, and execute the cells\n",
    "\n",
    "```\n",
    "resultDatasetName='Demo1'\n",
    "resultDatasetNotes='Results of Demo1'\n",
    "```\n",
    "\n",
    "* Under **Connect to openBIS**, as we are in the process of upgrading the SSL certification, please disable the SSL certificate verification `verify_certificates=False` for now. Then, print out the token which may look like this `username-220117012345678x123A4B5CDE67F8913345G67HI891KLM2`\n",
    "\n",
    "  ```\n",
    "  from pybis import Openbis\n",
    "  o = Openbis(verify_certificates=False)\n",
    "  o.token\n",
    "  ```\n",
    "  \n",
    "If it is not your first login, you may see a notification message `Session is no longer valid. Please log in again.`. You can refresh the openBIS session with the command in the next section **openBIS session refresh (optional)**.\n",
    "\n",
    "* Under the section **openBIS session refresh (optional)**, enter your token, e.g., \n",
    "\n",
    "  ```\n",
    "  sessionToken = \"username-220117012345678x123A4B5CDE67F8913345G67HI891KLM2\"\n",
    "  ```"
   ]
  },
  {
   "cell_type": "markdown",
   "metadata": {},
   "source": [
    "* Download a dataset\n",
    "* Under the section **Process the data**, copy the analysis process below to the Jupyter Notebook on the Jupyter Hub Server"
   ]
  },
  {
   "cell_type": "code",
   "execution_count": null,
   "metadata": {},
   "outputs": [],
   "source": [
    "import os\n",
    "\n",
    "workdir = os.getcwd()\n",
    "\n",
    "# Define your dataset's code, e.g., 20210118095658605-414\n",
    "datasetcode = 'your-dataset-code'\n",
    "path_to_dataset = os.path.join(workdir, datasetcode, 'original/dog_read1.fasta.txt')\n",
    "path_to_dataset"
   ]
  },
  {
   "cell_type": "code",
   "execution_count": null,
   "metadata": {},
   "outputs": [],
   "source": [
    "# Read data\n",
    "with open(path_to_dataset) as seq_fasta:\n",
    "    seq_data = seq_fasta.readlines()\n",
    "    print(seq_data)"
   ]
  },
  {
   "cell_type": "code",
   "execution_count": null,
   "metadata": {},
   "outputs": [],
   "source": [
    "# Read a FASTA file line by line and save the header and sequence\n",
    "seq = ''\n",
    "for line in seq_data:\n",
    "    if line[0] == '>':\n",
    "        header = line.strip()\n",
    "    else:\n",
    "        seq = seq + line.strip()\n",
    "\n",
    "# Count Cysteine residues\n",
    "num_cys = seq.count(\"C\")\n",
    "\n",
    "print('header  : {}'.format(header))\n",
    "print('sequence: {}'.format(seq))\n",
    "print('No. of Cysteine residues: {}'.format(num_cys))"
   ]
  },
  {
   "cell_type": "markdown",
   "metadata": {},
   "source": [
    "* Save the notebook\n",
    "* Execute the section **Saving the results** to save and upload the notebook back to openBIS\n",
    "* Go to openBIS lab notebook\n",
    "    * Reload the page\n",
    "    * Check under `My Space` > `Training` > `JUPYTER-DEMO` > `JUPYTER-DEMO`\n",
    "    \n",
    "You can see that a new dataset `Demo1` is added. When you click at `Demo1` in the left menu navigation, you can see a folder `ANALYSIS_NOTEBOOK: Demo1` at the bottom of the page. The folder contains `openBIS_to_Jupyter_Demo_Notebook.ipynb.html` and `openBIS_to_Jupyter_Demo_Notebook.ipynb` which you have uploaded from the Jupyter notebook."
   ]
  },
  {
   "cell_type": "markdown",
   "metadata": {},
   "source": [
    "## Demo 2: From locally-installed Jupyter to openBIS"
   ]
  },
  {
   "cell_type": "markdown",
   "metadata": {},
   "source": [
    "### Set up an environment\n",
    "\n",
    "Here we explain how to set up an environment so that you can connect locally-installed Jupyter to the openBIS server. We also provide environment files which include Jupyter Lab and Notebook, Jupyter-openBIS extensions for both Jupyter Lab and Notebook, Jupyter Notebook extensions and required Python packages.\n",
    "\n",
    "**Step 1: Install Jupyter and Jupyter-openBIS extensions**\n",
    "\n",
    "**Option 1:** Create a virtual environment with `conda` using `environments.yml` \n",
    "\n",
    "```bash\n",
    "$ conda env create -f environments.yml\n",
    "$ conda activate env-jupyter-openbis\n",
    "```"
   ]
  },
  {
   "cell_type": "markdown",
   "metadata": {},
   "source": [
    "**Option 2:** Create a virtual environment with Python `venv` and install packages with `pip` using `requirements.txt` \n",
    "\n",
    "```bash\n",
    "$ python3 -m venv env-jupyter-openbis\n",
    "$ source env-jupyter-openbis/bin/activate\n",
    "(env-jupyter-openbis)$ pip install -r requirements.txt\n",
    "```"
   ]
  },
  {
   "cell_type": "markdown",
   "metadata": {},
   "source": [
    "**Option 3:** Manually install packages and an openBIS extension for Jupyter\n",
    "\n",
    "* Install Jupyter \n",
    "\n",
    "    ```bash\n",
    "    $ pip install jupyterlab\n",
    "    ```\n",
    "    <br>\n",
    "    \n",
    "* Install required packages\n",
    "\n",
    "    ```bash\n",
    "    $ pip install numpy matplotlib jupyter_contrib_nbextensions\n",
    "    ```\n",
    "    <br>\n",
    "\n",
    "* For **Jupyter Lab**, install `jupyterlab-openbis` extension\n",
    "\n",
    "    ```bash\n",
    "    $ pip install jupyterlab-openbis\n",
    "    ```\n",
    "    <br>\n",
    "    \n",
    "* For **Jupyter Notebook**, install `jupyter-openbis` extension\n",
    "\n",
    "    ```bash\n",
    "    $ pip install --upgrade jupyter-openbis-extension\n",
    "    ```\n",
    "<br>"
   ]
  },
  {
   "cell_type": "markdown",
   "metadata": {},
   "source": [
    "**Step 2: Enable the `jupyter-openbis` extension**\n",
    "\n",
    "This step is only for **Jupyter Notebook**. For Jupyter Lab, the extension is automatically enabled.\n",
    "\n",
    "```bash\n",
    "$ jupyter-nbextensions_configurator enable --py jupyter-openbis-server\n",
    "```"
   ]
  },
  {
   "cell_type": "markdown",
   "metadata": {},
   "source": [
    "When `jupyter-openbis` extension has been installed and enabled, you can see these three extra buttons in the toolbar.\n",
    "\n",
    "\n",
    "|     |   Jupyter Lab | Jupyter Notebook |\n",
    "|----------|:-------------:|:---:|\n",
    "| <img src=\"images/jupyter-openbis-extension-button1.png\" width=\"50\" height=auto /> |   Choose openBIS connection | configure openBIS connections |\n",
    "| <img src=\"images/jupyter-openbis-extension-button2.png\" width=\"50\" height=auto /> |   Download openBIS datasets | Download openBIS datasets |\n",
    "| <img src=\"images/jupyter-openbis-extension-button3.png\" width=\"50\" height=auto /> |  Upload openBIS datasets| upload Notebook and Data to openBIS |"
   ]
  },
  {
   "cell_type": "markdown",
   "metadata": {},
   "source": [
    "**Step 3: Optional**\n",
    "\n",
    "To save a static version of a notebook, we export a Jupyter notebook to HTML but the exported version does not include embedded images. This issue can be overcome by installing the unofficial Jupyter Notebook Extension `jupyter-contrib-nbextension` which provides an option `Html_embed` to export a notebook with embedded images. Before enabling the extensions, install javascript and css files:\n",
    "\n",
    "```bash\n",
    "$ jupyter-contrib-nbextension install --user\n",
    "```\n",
    "    \n",
    "Then, enable the extensions:\n",
    "\n",
    "```bash\n",
    "$ jupyter-nbextensions_configurator enable --user\n",
    "```"
   ]
  },
  {
   "cell_type": "markdown",
   "metadata": {},
   "source": [
    "### Configure the connection from Jupyter to openBIS\n",
    "\n",
    "* Click on  <img src=\"images/jupyter-openbis-extension-button1.png\" width=\"35\" height=auto />  to configure a connection to openBIS\n",
    "* Fill in the connection information \n",
    "    * Name: openbis-training\n",
    "    * URL: https://openbis-training.ethz.ch/openbis/webapp/eln-lims/\n",
    "    * Your username and password\n",
    "    * Click `Create`\n",
    "* After the status shows `connected`\n",
    "    * In Jupyter Lab, the connection is selected automatically, then click `Close`\n",
    "    * In Jupyter Notebook, choose this connection and click `Choose connection`"
   ]
  },
  {
   "cell_type": "markdown",
   "metadata": {},
   "source": [
    "### Download a dataset\n",
    "* Go to openBIS lab notebook\n",
    "   * Click on the dataset > `More...` > `Show Identification Info`\n",
    "    * Copy the path under `Object:`, e.g., /JARUNANP_JARUNANP/TRAINING/JUPYTER-DEMO\n",
    "* Go to the Jupyter notebook\n",
    "    * Click on `Download openBIS datasets` <img src=\"images/jupyter-openbis-extension-button2.png\" width=\"35\" height=auto /> button in the toolbar\n",
    "    * Paste the path to `Entity Identifier/permid:`\n",
    "    * Click `show datasets`\n",
    "    * Select the dataset \n",
    "    * Download\n",
    "        * In Jupyter Lab, click `Download selected` and `Close`\n",
    "        * In Jupyter Notebook, click `Download` "
   ]
  },
  {
   "cell_type": "markdown",
   "metadata": {},
   "source": [
    "### Process the data"
   ]
  },
  {
   "cell_type": "code",
   "execution_count": 5,
   "metadata": {},
   "outputs": [
    {
     "data": {
      "text/plain": [
       "'/home/jarunan/siswork/sis-projects/20_08_openbis_training/openbis-training/2_data_analysis/jupyter/20220117094641346-373/original/dog_read1.fasta.txt'"
      ]
     },
     "execution_count": 5,
     "metadata": {},
     "output_type": "execute_result"
    }
   ],
   "source": [
    "import os\n",
    "\n",
    "workdir = os.getcwd()\n",
    "\n",
    "# Define your dataset's code, e.g., 20210118095658605-414\n",
    "datasetcode = '20220117094641346-373'\n",
    "path_to_dataset = os.path.join(workdir, datasetcode, 'original/dog_read1.fasta.txt')\n",
    "path_to_dataset"
   ]
  },
  {
   "cell_type": "code",
   "execution_count": 6,
   "metadata": {},
   "outputs": [
    {
     "name": "stdout",
     "output_type": "stream",
     "text": [
      "['>gnl|SRA|ERR3932823.1.1 1 (Biological, Reverse)\\n', 'GTCAAAGCGGTTTTTCTCTGCCCATCTGATTGCTCAGATTCCAATGTGAGACGTATTTCCTGTTAATAAGGATAAT\\n', '>gnl|SRA|ERR3932823.1.2 1 (Biological, Forward)\\n', 'GAATATTTTAACCATAGTACTACGGATAGTAAATTATCCTTATTAACAGGAAATACGTCTCACATTGGAATCTGAG']\n"
     ]
    }
   ],
   "source": [
    "# Read data\n",
    "with open(path_to_dataset) as seq_fasta:\n",
    "    seq_data = seq_fasta.readlines()\n",
    "    print(seq_data)"
   ]
  },
  {
   "cell_type": "code",
   "execution_count": 7,
   "metadata": {},
   "outputs": [
    {
     "name": "stdout",
     "output_type": "stream",
     "text": [
      "header  : >gnl|SRA|ERR3932823.1.2 1 (Biological, Forward)\n",
      "sequence: GTCAAAGCGGTTTTTCTCTGCCCATCTGATTGCTCAGATTCCAATGTGAGACGTATTTCCTGTTAATAAGGATAATGAATATTTTAACCATAGTACTACGGATAGTAAATTATCCTTATTAACAGGAAATACGTCTCACATTGGAATCTGAG\n",
      "No. of Cysteine residues: 27\n"
     ]
    }
   ],
   "source": [
    "# Read a FASTA file line by line and save the header and sequence\n",
    "seq = ''\n",
    "for line in seq_data:\n",
    "    if line[0] == '>':\n",
    "        header = line.strip()\n",
    "    else:\n",
    "        seq = seq + line.strip()\n",
    "\n",
    "# Count Cysteine residues\n",
    "num_cys = seq.count(\"C\")\n",
    "\n",
    "print('header  : {}'.format(header))\n",
    "print('sequence: {}'.format(seq))\n",
    "print('No. of Cysteine residues: {}'.format(num_cys))"
   ]
  },
  {
   "cell_type": "markdown",
   "metadata": {},
   "source": [
    "### Upload the notebook and data to openBIS"
   ]
  },
  {
   "cell_type": "markdown",
   "metadata": {},
   "source": [
    "**In Jupyter Lab**\n",
    "* Select `File` > `Save Notebook` to save your work\n",
    "* Select `File` > `Export Notebook As...` > `HTML` (or `Html_embed` if nbextensions is enabled) to create a static version of the notebook. Select to save the exported file in the working directory\n",
    "* Click on <img src=\"images/jupyter-openbis-extension-button3.png\" width=\"35\" height=auto /> in the menu toolbar to upload the notebook and data to openBIS, and fill in the dataset information\n",
    "    * **Select dataSet type**: ANALYSIS_NOTEBOOK\n",
    "    * **Name**: Demo2\n",
    "    * **Notes**: Results of Demo2\n",
    "    * **Sample/experiment identifier**: /JARUNANP_JARUNANP/TRAINING/JUPYTER-DEMO\n",
    "        * Select **Files to upload**:\n",
    "            * Data_Analysis_with_Jupyter_Tutorial.html\n",
    "            * Data_Analysis_with_Jupyter_Tutorial.ipynb\n",
    "        * Click `Upload` and `Close`"
   ]
  },
  {
   "cell_type": "markdown",
   "metadata": {},
   "source": [
    "**In Jupyter Notebook**\n",
    "* Select `File` > `Save and checkpoint` to save your work\n",
    "* Select `File` > `Download as` > `HTML` to create a static version of the notebook\n",
    "* Click on <img src=\"images/jupyter-openbis-extension-button3.png\" width=\"35\" height=auto /> in the menu toolbar to upload the notebook and data to openBIS, and fill in the dataset information\n",
    "    * **choose a dataSet type**: ANALYSIS_NOTEBOOK\n",
    "    * **Name**: Demo2\n",
    "    * **Notes**: Results of Demo2\n",
    "    * **enter a sample/experiment identifier to attach this dataSet to**: /JARUNANP_JARUNANP/TRAINING/JUPYTER-DEMO\n",
    "    * uncheck all **Parent Datasets**\n",
    "    * Select **Files to upload**:\n",
    "        * Data_Analysis_with_Jupyter_Tutorial.html\n",
    "        * Data_Analysis_with_Jupyter_Tutorial.ipynb\n",
    "    * Click `Upload`"
   ]
  },
  {
   "cell_type": "markdown",
   "metadata": {},
   "source": [
    "* Go to openBIS lab notebook\n",
    "    * Reload the page\n",
    "    * Check under `My Space` > `Training` > `JUPYTER-DEMO` > `JUPYTER-DEMO`\n",
    "    \n",
    "You can see that a new dataset `Demo2` is added. When you click at `Demo2` in the left menu navigation, you can see a folder `ANALYSIS_NOTEBOOK: Demo2` at the bottom of the page. The folder contains `Data_Analysis_with_Jupyter_Tutorial.html` and `Data_Analysis_with_Jupyter_Tutorial.ipynb` which you have uploaded from the Jupyter notebook.\n",
    "    "
   ]
  },
  {
   "cell_type": "code",
   "execution_count": null,
   "metadata": {},
   "outputs": [],
   "source": []
  }
 ],
 "metadata": {
  "datasets": {
   "20200814125627110-690": {
    "dataStore": "DSS1",
    "files": [
     "original/blobs.tif"
    ],
    "location": "1CC55CFC-0BFD-49C0-9952-60C1964FEF6C/88/ad/7a/20200814125627110-690",
    "path": "/home/jarunanp/siswork/sis-projects/20_08_openbis_training/openbis-training/Jupyter/jarunan/20200814125627110-690",
    "permId": "20200814125627110-690",
    "size": 65172,
    "status": "Data for DataSet 20200814125627110-690 was successfully downloaded to: /home/jarunanp/siswork/sis-projects/20_08_openbis_training/openbis-training/Jupyter/jarunan/20200814125627110-690"
   },
   "20210520133251608-905": {
    "dataStore": "DSS1",
    "files": [
     "original/dog_read1.fasta.txt"
    ],
    "location": "F83CDAFD-6A5F-475C-8312-53A08C4FEFDA/15/b7/fd/20210520133251608-905",
    "path": "/home/jarunan/siswork/sis-projects/20_08_openbis_training/openbis-training/2_data_analysis/jupyter/20210520133251608-905",
    "permId": "20210520133251608-905",
    "size": 249,
    "statusText": "Data for DataSet 20210520133251608-905 was successfully downloaded to: /home/jarunan/siswork/sis-projects/20_08_openbis_training/openbis-training/2_data_analysis/jupyter/20210520133251608-905",
    "url": "https://openbis-training.ethz.ch/openbis/webapp/eln-lims/"
   },
   "20210531115724823-286": {
    "dataStore": "DSS1",
    "files": [
     "original/dog_read1.fasta.txt"
    ],
    "location": "F83CDAFD-6A5F-475C-8312-53A08C4FEFDA/e6/7a/29/20210531115724823-286",
    "path": "/home/jarunan/siswork/sis-projects/20_08_openbis_training/openbis-training/2_data_analysis/jupyter/20210531115724823-286",
    "permId": "20210531115724823-286",
    "size": 249,
    "status": "Data for DataSet 20210531115724823-286 was successfully downloaded to: /home/jarunan/siswork/sis-projects/20_08_openbis_training/openbis-training/2_data_analysis/jupyter/20210531115724823-286"
   },
   "20210601130610171-717": {
    "dataStore": "DSS1",
    "files": [
     "original/dog_read1.fasta.txt"
    ],
    "location": "F83CDAFD-6A5F-475C-8312-53A08C4FEFDA/9b/81/1e/20210601130610171-717",
    "path": "/home/jarunan/siswork/sis-projects/20_08_openbis_training/openbis-training/2_data_analysis/jupyter/20210601130610171-717",
    "permId": "20210601130610171-717",
    "size": 249,
    "statusText": "Data for DataSet 20210601130610171-717 was successfully downloaded to: /home/jarunan/siswork/sis-projects/20_08_openbis_training/openbis-training/2_data_analysis/jupyter/20210601130610171-717",
    "url": "https://openbis-training.ethz.ch/openbis/webapp/eln-lims"
   },
   "20210906094726521-803": {
    "dataStore": "DSS1",
    "files": [
     "original/dog_read1.fasta.txt"
    ],
    "location": "F83CDAFD-6A5F-475C-8312-53A08C4FEFDA/30/31/b7/20210906094726521-803",
    "path": "/home/jarunan/siswork/sis-projects/20_08_openbis_training/openbis-training/2_data_analysis/jupyter/20210906094726521-803",
    "permId": "20210906094726521-803",
    "size": 249,
    "statusText": "Data for DataSet 20210906094726521-803 was successfully downloaded to: /home/jarunan/siswork/sis-projects/20_08_openbis_training/openbis-training/2_data_analysis/jupyter/20210906094726521-803",
    "url": "https://openbis-training.ethz.ch/openbis/webapp/eln-lims/"
   },
   "20210906113734907-809": {
    "dataStore": "DSS1",
    "files": [
     "original/dog_read1.fasta.txt"
    ],
    "location": "F83CDAFD-6A5F-475C-8312-53A08C4FEFDA/d2/9a/3e/20210906113734907-809",
    "path": "/home/jarunan/siswork/sis-projects/20_08_openbis_training/openbis-training/2_data_analysis/jupyter/20210906113734907-809",
    "permId": "20210906113734907-809",
    "size": 249,
    "statusText": "Data for DataSet 20210906113734907-809 was successfully downloaded to: /home/jarunan/siswork/sis-projects/20_08_openbis_training/openbis-training/2_data_analysis/jupyter/20210906113734907-809",
    "url": "https://openbis-training.ethz.ch/openbis/webapp/eln-lims/"
   },
   "20210914125954884-263": {
    "dataStore": "DSS1",
    "files": [
     "original/dog_read1.fasta.txt"
    ],
    "location": "F83CDAFD-6A5F-475C-8312-53A08C4FEFDA/24/9d/b7/20210914125954884-263",
    "path": "/home/jarunan/siswork/sis-projects/20_08_openbis_training/openbis-training/2_data_analysis/jupyter/20210914125954884-263",
    "permId": "20210914125954884-263",
    "size": 249,
    "statusText": "Data for DataSet 20210914125954884-263 was successfully downloaded to: /home/jarunan/siswork/sis-projects/20_08_openbis_training/openbis-training/2_data_analysis/jupyter/20210914125954884-263",
    "url": "https://openbis-training.ethz.ch"
   },
   "20210916073216922-611": {
    "dataStore": "DSS1",
    "files": [
     "original/dog_read1.fasta.txt"
    ],
    "location": "F83CDAFD-6A5F-475C-8312-53A08C4FEFDA/9a/b8/38/20210916073216922-611",
    "path": "/home/jarunan/siswork/sis-projects/20_08_openbis_training/openbis-training/2_data_analysis/jupyter/20210916073216922-611",
    "permId": "20210916073216922-611",
    "size": 249,
    "statusText": "Data for DataSet 20210916073216922-611 was successfully downloaded to: /home/jarunan/siswork/sis-projects/20_08_openbis_training/openbis-training/2_data_analysis/jupyter/20210916073216922-611",
    "url": "https://openbis-training.ethz.ch"
   },
   "20220117094641346-373": {
    "dataStore": "DSS1",
    "files": [
     "original/dog_read1.fasta.txt"
    ],
    "location": "F83CDAFD-6A5F-475C-8312-53A08C4FEFDA/fd/fa/63/20220117094641346-373",
    "path": "/home/jarunan/siswork/sis-projects/20_08_openbis_training/openbis-training/2_data_analysis/jupyter/20220117094641346-373",
    "permId": "20220117094641346-373",
    "size": 249,
    "statusText": "Data for DataSet 20220117094641346-373 was successfully downloaded to: /home/jarunan/siswork/sis-projects/20_08_openbis_training/openbis-training/2_data_analysis/jupyter/20220117094641346-373",
    "url": "https://openbis-training.ethz.ch/openbis/webapp/eln-lims/"
   }
  },
  "kernelspec": {
   "display_name": "Python 3 (ipykernel)",
   "language": "python",
   "name": "python3"
  },
  "language_info": {
   "codemirror_mode": {
    "name": "ipython",
    "version": 3
   },
   "file_extension": ".py",
   "mimetype": "text/x-python",
   "name": "python",
   "nbconvert_exporter": "python",
   "pygments_lexer": "ipython3",
   "version": "3.8.10"
  },
  "toc": {
   "base_numbering": 1,
   "nav_menu": {},
   "number_sections": true,
   "sideBar": true,
   "skip_h1_title": false,
   "title_cell": "Table of Contents",
   "title_sidebar": "Contents",
   "toc_cell": false,
   "toc_position": {
    "height": "calc(100% - 180px)",
    "left": "10px",
    "top": "150px",
    "width": "260px"
   },
   "toc_section_display": true,
   "toc_window_display": false
  },
  "toc-autonumbering": true
 },
 "nbformat": 4,
 "nbformat_minor": 4
}
