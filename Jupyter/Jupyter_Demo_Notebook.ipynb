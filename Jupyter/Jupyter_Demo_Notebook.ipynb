{
 "cells": [
  {
   "cell_type": "markdown",
   "metadata": {},
   "source": [
    "# Demo notebook for Jupyter - openBIS integration\n",
    "This notebook demonstrates how we can connect to the openBIS server, download some data, analyze the data and then save the results in openBIS."
   ]
  },
  {
   "cell_type": "markdown",
   "metadata": {},
   "source": [
    "First, use the `configure openBIS connection` button in the toolbar, to connect to your openBIS server. When the connection has been selected, download the dataset in experiment `/SIS_HLUETCKE/DEMO/JUPYTER-DEMO` via the `Download openBIS dataset` button."
   ]
  },
  {
   "cell_type": "markdown",
   "metadata": {},
   "source": [
    "### Import required modules"
   ]
  },
  {
   "cell_type": "code",
   "execution_count": null,
   "metadata": {},
   "outputs": [],
   "source": [
    "import numpy as np\n",
    "import matplotlib.pyplot as plt\n",
    "from skimage.io import imread\n",
    "from skimage.morphology import reconstruction, remove_small_objects\n",
    "from skimage.measure import label, regionprops\n",
    "\n",
    "%matplotlib inline"
   ]
  },
  {
   "cell_type": "markdown",
   "metadata": {},
   "source": [
    "### Read and display the data"
   ]
  },
  {
   "cell_type": "code",
   "execution_count": null,
   "metadata": {},
   "outputs": [],
   "source": [
    "img = imread('./20190328133056219-504/original/blobs.tif')"
   ]
  },
  {
   "cell_type": "code",
   "execution_count": null,
   "metadata": {},
   "outputs": [],
   "source": [
    "fig = plt.figure(figsize=(10,5))\n",
    "fig.add_subplot(121)\n",
    "plt.imshow(img, cmap='gray')\n",
    "plt.title('blobs')\n",
    "fig.add_subplot(122)\n",
    "plt.hist(img.ravel(), bins=10)\n",
    "plt.title('Histogram of blobs')\n",
    "plt.show()"
   ]
  },
  {
   "cell_type": "markdown",
   "metadata": {},
   "source": [
    "### Process the data\n",
    "Let's say our analysis task is to segement the white blobs from the dark background. We will first set a threshold to binarize the image. Then we perform some further image processing to refine the results. Finally, we label the segmented blobs and measure their size. "
   ]
  },
  {
   "cell_type": "code",
   "execution_count": null,
   "metadata": {},
   "outputs": [],
   "source": [
    "intensity_threshold = 150\n",
    "binary = img > intensity_threshold"
   ]
  },
  {
   "cell_type": "code",
   "execution_count": null,
   "metadata": {},
   "outputs": [],
   "source": [
    "plt.imshow(binary, cmap='gray')\n",
    "plt.title('Binary image')"
   ]
  },
  {
   "cell_type": "markdown",
   "metadata": {},
   "source": [
    "Fill the small holes in the white blobs."
   ]
  },
  {
   "cell_type": "code",
   "execution_count": null,
   "metadata": {},
   "outputs": [],
   "source": [
    "seed = np.copy(binary)\n",
    "seed[1:-1, 1:-1] = binary.max()\n",
    "filled = reconstruction(seed, binary, method='erosion')"
   ]
  },
  {
   "cell_type": "code",
   "execution_count": null,
   "metadata": {},
   "outputs": [],
   "source": [
    "plt.imshow(filled, cmap='gray')\n",
    "plt.title('Filled image')"
   ]
  },
  {
   "cell_type": "markdown",
   "metadata": {},
   "source": [
    "Remove some small, spurious blobs."
   ]
  },
  {
   "cell_type": "code",
   "execution_count": null,
   "metadata": {},
   "outputs": [],
   "source": [
    "removed_small = remove_small_objects(filled.astype(bool), min_size=20)"
   ]
  },
  {
   "cell_type": "code",
   "execution_count": null,
   "metadata": {},
   "outputs": [],
   "source": [
    "plt.imshow(removed_small, cmap='gray')\n",
    "plt.title('Small objects removed')"
   ]
  },
  {
   "cell_type": "markdown",
   "metadata": {},
   "source": [
    "Label the objects found."
   ]
  },
  {
   "cell_type": "code",
   "execution_count": null,
   "metadata": {},
   "outputs": [],
   "source": [
    "label_img = label(removed_small, connectivity=img.ndim)"
   ]
  },
  {
   "cell_type": "code",
   "execution_count": null,
   "metadata": {},
   "outputs": [],
   "source": [
    "plt.imshow(label_img*10, cmap='prism')\n",
    "plt.title('Labeled image')"
   ]
  },
  {
   "cell_type": "markdown",
   "metadata": {},
   "source": [
    "Get properties of the detected objects."
   ]
  },
  {
   "cell_type": "code",
   "execution_count": null,
   "metadata": {},
   "outputs": [],
   "source": [
    "props = regionprops(label_img)\n",
    "area = np.array([x.area for x in props])"
   ]
  },
  {
   "cell_type": "code",
   "execution_count": null,
   "metadata": {},
   "outputs": [],
   "source": [
    "print('Found %d blobs.' % (len(area)))\n",
    "print('Area min: %1.0f pixels' % (np.min(area)))\n",
    "print('Area max: %1.0f pixels' % (np.max(area)))\n",
    "print('Area mean: %1.0f pixels' % (np.mean(area)))"
   ]
  },
  {
   "cell_type": "markdown",
   "metadata": {},
   "source": [
    "Now we can upload the notebook back to openBIS using the `Upload notebook and data` button in the toolbar. Make sure \n",
    "to save the notebook first: `File --> Save and checkpoint`\n",
    "It is also possible to create static versions of the notebook: `File --> Download as --> HTML`."
   ]
  }
 ],
 "metadata": {
  "datasets": {
   "20190328133056219-504": {
    "dataStore": "DSS1",
    "files": [
     "original/blobs.tif"
    ],
    "location": "A9911530-261D-4369-89E6-023D68E90BB5/a0/df/b1/20190328133056219-504",
    "path": "/Users/henry/Data/Projects/openbis-training/Jupyter/20190328133056219-504",
    "permId": "20190328133056219-504",
    "size": 65172,
    "status": "Data for DataSet 20190328133056219-504 was successfully downloaded to: /Users/henry/Data/Projects/openbis-training/Jupyter/20190328133056219-504."
   },
   "20190416155247870-52": {
    "dataStore": "DSS1",
    "location": "A5319554-6B31-4AB2-A293-796E2CE47336/e3/5a/14/20190416155247870-52",
    "path": "/home/openbis/Documents/20190416155247870-52",
    "permId": "20190416155247870-52",
    "size": 65172,
    "status": "Data for DataSet 20190416155247870-52 was successfully downloaded to: /home/openbis/Documents/20190416155247870-52."
   }
  },
  "kernelspec": {
   "display_name": "Python 3",
   "language": "python",
   "name": "python3"
  },
  "language_info": {
   "codemirror_mode": {
    "name": "ipython",
    "version": 3
   },
   "file_extension": ".py",
   "mimetype": "text/x-python",
   "name": "python",
   "nbconvert_exporter": "python",
   "pygments_lexer": "ipython3",
   "version": "3.7.3"
  },
  "openbis": {
   "permIds": {}
  }
 },
 "nbformat": 4,
 "nbformat_minor": 2
}
