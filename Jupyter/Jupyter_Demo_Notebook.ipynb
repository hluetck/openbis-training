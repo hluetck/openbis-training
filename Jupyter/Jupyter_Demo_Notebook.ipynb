{
 "cells": [
  {
   "cell_type": "markdown",
   "metadata": {},
   "source": [
    "# Demo notebook for Jupyter - openBIS integration\n",
    "This notebook demonstrates how we can connect to the openBIS server, download some data, analyze the data and then save the results in openBIS."
   ]
  },
  {
   "cell_type": "markdown",
   "metadata": {},
   "source": [
    "## Prepare an environment\n",
    "\n",
    "* Install packages\n",
    "```bash\n",
    "$ pip install --upgrade numpy matplotlib scikit-image\n",
    "```\n",
    "\n",
    "\n",
    "* Install jupyter-openbis extension\n",
    "```bash\n",
    "$ pip install --upgrade jupyter-openbis-extension\n",
    "$ jupyter serverextension enable --py jupyter-openbis-server\n",
    "```\n",
    "\n",
    "When `jupyter-openbis-extension` has been installed and enabled, you can see these three extra buttons in the toolbar.\n",
    "<img src=\"images/jupyter-openbis-extension-buttons-explained.png\" width=\"600\" height=auto />"
   ]
  },
  {
   "cell_type": "markdown",
   "metadata": {},
   "source": [
    "## Configure the connection\n",
    "\n",
    "* Click on `configure openBIS connections` button in the toolbar\n",
    "* Enter \n",
    "    * Name: openbis-training\n",
    "    * URL: https://openbis-training.ethz.ch/openbis/webapp/eln-lims/\n",
    "    * Your username and password\n",
    "    * Click `Create`\n",
    "* After the status shows `connected`, choose this connection and click `Choose connection`"
   ]
  },
  {
   "cell_type": "markdown",
   "metadata": {},
   "source": [
    "## Download a dataset\n",
    "\n",
    "* Go to the lab notebook\n",
    "   * Click on the dataset > `More...` > `Show Identification Info`\n",
    "    * Copy the path under `Object:`, e.g., /JARUNANP_JARUNANP/TRAINING/JUPYTER-DEMO\n",
    "* Go to the Jupyter notebook\n",
    "    * Click on `Download openBIS datasets` button in the toolbar\n",
    "    * Paste the path to `Entity Identifier/permid:`\n",
    "    * Click `show datasets`\n",
    "    * Select the dataset and click `Download`"
   ]
  },
  {
   "cell_type": "markdown",
   "metadata": {},
   "source": [
    "## Import required modules"
   ]
  },
  {
   "cell_type": "code",
   "execution_count": null,
   "metadata": {},
   "outputs": [],
   "source": [
    "import os\n",
    "import numpy as np\n",
    "import matplotlib.pyplot as plt\n",
    "from skimage.io import imread\n",
    "from skimage.morphology import reconstruction, remove_small_objects\n",
    "from skimage.measure import label, regionprops\n",
    "\n",
    "%matplotlib inline"
   ]
  },
  {
   "cell_type": "markdown",
   "metadata": {},
   "source": [
    "## Read and display the data\n",
    "\n",
    "Before reading the image, define your dataset's code, e.g., 20201116203541033-438"
   ]
  },
  {
   "cell_type": "code",
   "execution_count": null,
   "metadata": {},
   "outputs": [],
   "source": [
    "workdir = os.getcwd()\n",
    "datasetcode = '20201116203541033-438'\n",
    "path_to_dataset = os.path.join(workdir, datasetcode, 'original/blobs.tif')\n",
    "path_to_dataset"
   ]
  },
  {
   "cell_type": "code",
   "execution_count": null,
   "metadata": {},
   "outputs": [],
   "source": [
    "img = imread(path_to_dataset)"
   ]
  },
  {
   "cell_type": "code",
   "execution_count": null,
   "metadata": {},
   "outputs": [],
   "source": [
    "fig = plt.figure(figsize=(10,5))\n",
    "fig.add_subplot(121)\n",
    "plt.imshow(img, cmap='gray')\n",
    "plt.title('blobs')\n",
    "fig.add_subplot(122)\n",
    "plt.hist(img.ravel(), bins=10)\n",
    "plt.title('Histogram of blobs')\n",
    "plt.show()"
   ]
  },
  {
   "cell_type": "markdown",
   "metadata": {},
   "source": [
    "## Process the data\n",
    "Let's say our analysis task is to segment the white blobs from the dark background. We will first set a threshold to binarize the image. Then we perform some further image processing to refine the results. Finally, we label the segmented blobs and measure their size. "
   ]
  },
  {
   "cell_type": "code",
   "execution_count": null,
   "metadata": {},
   "outputs": [],
   "source": [
    "intensity_threshold = 150\n",
    "binary = img > intensity_threshold"
   ]
  },
  {
   "cell_type": "code",
   "execution_count": null,
   "metadata": {},
   "outputs": [],
   "source": [
    "plt.imshow(binary, cmap='gray')\n",
    "plt.title('Binary image')"
   ]
  },
  {
   "cell_type": "markdown",
   "metadata": {},
   "source": [
    "Fill the small holes in the white blobs."
   ]
  },
  {
   "cell_type": "code",
   "execution_count": null,
   "metadata": {},
   "outputs": [],
   "source": [
    "seed = np.copy(binary)\n",
    "seed[1:-1, 1:-1] = binary.max()\n",
    "filled = reconstruction(seed, binary, method='erosion')"
   ]
  },
  {
   "cell_type": "code",
   "execution_count": null,
   "metadata": {},
   "outputs": [],
   "source": [
    "plt.imshow(filled, cmap='gray')\n",
    "plt.title('Filled image')"
   ]
  },
  {
   "cell_type": "markdown",
   "metadata": {},
   "source": [
    "Remove some small, spurious blobs."
   ]
  },
  {
   "cell_type": "code",
   "execution_count": null,
   "metadata": {},
   "outputs": [],
   "source": [
    "removed_small = remove_small_objects(filled.astype(bool), min_size=20)"
   ]
  },
  {
   "cell_type": "code",
   "execution_count": null,
   "metadata": {},
   "outputs": [],
   "source": [
    "plt.imshow(removed_small, cmap='gray')\n",
    "plt.title('Small objects removed')"
   ]
  },
  {
   "cell_type": "markdown",
   "metadata": {},
   "source": [
    "Label the objects found."
   ]
  },
  {
   "cell_type": "code",
   "execution_count": null,
   "metadata": {},
   "outputs": [],
   "source": [
    "label_img = label(removed_small, connectivity=img.ndim)"
   ]
  },
  {
   "cell_type": "code",
   "execution_count": null,
   "metadata": {},
   "outputs": [],
   "source": [
    "plt.imshow(label_img*10, cmap='prism')\n",
    "plt.title('Labeled image')"
   ]
  },
  {
   "cell_type": "markdown",
   "metadata": {},
   "source": [
    "Get properties of the detected objects."
   ]
  },
  {
   "cell_type": "code",
   "execution_count": null,
   "metadata": {},
   "outputs": [],
   "source": [
    "props = regionprops(label_img)\n",
    "area = np.array([x.area for x in props])"
   ]
  },
  {
   "cell_type": "code",
   "execution_count": null,
   "metadata": {},
   "outputs": [],
   "source": [
    "print('Found %d blobs.' % (len(area)))\n",
    "print('Area min: %1.0f pixels' % (np.min(area)))\n",
    "print('Area max: %1.0f pixels' % (np.max(area)))\n",
    "print('Area mean: %1.0f pixels' % (np.mean(area)))"
   ]
  },
  {
   "cell_type": "markdown",
   "metadata": {},
   "source": [
    "## Upload the notebook and data to openBIS\n",
    "\n",
    "* Select `File` > `Save and checkpoint` to save your work\n",
    "* Select `File` > `Download as` > `HTML` to create a static version of the notebook\n",
    "* Click `upload Notebook and Data to openBIS` in the menu toolbar and fill in the dataset information\n",
    "    * **choose a dataSet type**: ANALYSIS_NOTEBOOK\n",
    "    * **Name**: Demo1\n",
    "    * **Notes**: Results of Demo1\n",
    "    * **enter a sample/experiment identifier to attach this dataSet to**: /JARUNANP_JARUNANP/TRAINING/JUPYTER-DEMO\n",
    "    * uncheck all **Parent Datasets**\n",
    "    * select **Files to upload**:\n",
    "        * Jupyter_Demo_Notebook.html\n",
    "        * Jupyter_Demo_Notebook.ipynb"
   ]
  },
  {
   "cell_type": "code",
   "execution_count": null,
   "metadata": {},
   "outputs": [],
   "source": []
  }
 ],
 "metadata": {
  "datasets": {
   "20190328133056219-504": {
    "dataStore": "DSS1",
    "files": [
     "original/blobs.tif"
    ],
    "location": "A9911530-261D-4369-89E6-023D68E90BB5/a0/df/b1/20190328133056219-504",
    "path": "/Users/henry/Data/Projects/openbis-training/Jupyter/20190328133056219-504",
    "permId": "20190328133056219-504",
    "size": 65172,
    "status": "Data for DataSet 20190328133056219-504 was successfully downloaded to: /Users/henry/Data/Projects/openbis-training/Jupyter/20190328133056219-504."
   },
   "20190416155247870-52": {
    "dataStore": "DSS1",
    "location": "A5319554-6B31-4AB2-A293-796E2CE47336/e3/5a/14/20190416155247870-52",
    "path": "/home/openbis/Documents/20190416155247870-52",
    "permId": "20190416155247870-52",
    "size": 65172,
    "status": "Data for DataSet 20190416155247870-52 was successfully downloaded to: /home/openbis/Documents/20190416155247870-52."
   },
   "20200114134628751-71": {
    "dataStore": "DSS1",
    "files": [
     "original/blobs.tif"
    ],
    "location": "1CC55CFC-0BFD-49C0-9952-60C1964FEF6C/08/ab/8e/20200114134628751-71",
    "path": "/Users/henry/Data/Projects/openbis-training/Jupyter/20200114134628751-71",
    "permId": "20200114134628751-71",
    "size": 65172,
    "status": "Data for DataSet 20200114134628751-71 was successfully downloaded to: /Users/henry/Data/Projects/openbis-training/Jupyter/20200114134628751-71."
   },
   "20201116203541033-438": {
    "dataStore": "DSS1",
    "files": [
     "original/blobs.tif"
    ],
    "location": "1CC55CFC-0BFD-49C0-9952-60C1964FEF6C/1a/fa/ca/20201116203541033-438",
    "path": "/home/jarunanp/siswork/sis-projects/20_08_openbis_training/openbis-training/Jupyter/20201116203541033-438",
    "permId": "20201116203541033-438",
    "size": 65172,
    "status": "Data for DataSet 20201116203541033-438 was successfully downloaded to: /home/jarunanp/siswork/sis-projects/20_08_openbis_training/openbis-training/Jupyter/20201116203541033-438"
   },
   "20201117081240441-449": {
    "dataStore": "DSS1",
    "files": [
     "original/blobs.tif"
    ],
    "location": "1CC55CFC-0BFD-49C0-9952-60C1964FEF6C/7b/99/77/20201117081240441-449",
    "path": "/home/jarunanp/siswork/sis-projects/20_08_openbis_training/openbis-training/Jupyter/20201117081240441-449",
    "permId": "20201117081240441-449",
    "size": 65172,
    "status": "Data for DataSet 20201117081240441-449 was successfully downloaded to: /home/jarunanp/siswork/sis-projects/20_08_openbis_training/openbis-training/Jupyter/20201117081240441-449"
   }
  },
  "kernelspec": {
   "display_name": "Python 3",
   "language": "python",
   "name": "python3"
  },
  "language_info": {
   "codemirror_mode": {
    "name": "ipython",
    "version": 3
   },
   "file_extension": ".py",
   "mimetype": "text/x-python",
   "name": "python",
   "nbconvert_exporter": "python",
   "pygments_lexer": "ipython3",
   "version": "3.6.6"
  },
  "openbis": {
   "permIds": {}
  },
  "toc": {
   "base_numbering": 1,
   "nav_menu": {},
   "number_sections": true,
   "sideBar": true,
   "skip_h1_title": false,
   "title_cell": "Table of Contents",
   "title_sidebar": "Contents",
   "toc_cell": false,
   "toc_position": {},
   "toc_section_display": true,
   "toc_window_display": false
  }
 },
 "nbformat": 4,
 "nbformat_minor": 4
}
