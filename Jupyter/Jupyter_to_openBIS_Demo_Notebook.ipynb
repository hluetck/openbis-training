{
 "cells": [
  {
   "cell_type": "markdown",
   "metadata": {},
   "source": [
    "# Demo notebook for Jupyter - openBIS integration\n",
    "This notebook demonstrates how we can connect to the openBIS server, download some data, analyze the data and then save the results in openBIS."
   ]
  },
  {
   "cell_type": "markdown",
   "metadata": {},
   "source": [
    "## Prepare an environment\n",
    "\n",
    "* Install packages\n",
    "```bash\n",
    "$ pip install --upgrade numpy matplotlib scikit-image\n",
    "```\n",
    "\n",
    "\n",
    "* Install jupyter-openbis extension\n",
    "```bash\n",
    "$ pip install --upgrade jupyter-openbis-extension\n",
    "$ jupyter serverextension enable --py jupyter-openbis-server\n",
    "```\n",
    "\n",
    "When `jupyter-openbis-extension` has been installed and enabled, you can see these three extra buttons in the toolbar.\n",
    "<img src=\"images/jupyter-openbis-extension-buttons-explained.png\" width=\"600\" height=auto />"
   ]
  },
  {
   "cell_type": "markdown",
   "metadata": {},
   "source": [
    "## Configure the connection\n",
    "\n",
    "* Click on `configure openBIS connections` button in the toolbar\n",
    "* Enter \n",
    "    * Name: openbis-training\n",
    "    * URL: https://openbis-training.ethz.ch/openbis/webapp/eln-lims/\n",
    "    * Your username and password\n",
    "    * Click `Create`\n",
    "* After the status shows `connected`, choose this connection and click `Choose connection`"
   ]
  },
  {
   "cell_type": "markdown",
   "metadata": {},
   "source": [
    "## Download a dataset\n",
    "\n",
    "* Go to the lab notebook\n",
    "   * Click on the dataset > `More...` > `Show Identification Info`\n",
    "    * Copy the path under `Object:`, e.g., /JARUNANP_JARUNANP/TRAINING/JUPYTER-DEMO\n",
    "* Go to the Jupyter notebook\n",
    "    * Click on `Download openBIS datasets` button in the toolbar\n",
    "    * Paste the path to `Entity Identifier/permid:`\n",
    "    * Click `show datasets`\n",
    "    * Select the dataset and click `Download`"
   ]
  },
  {
   "cell_type": "markdown",
   "metadata": {},
   "source": [
    "## Process the data\n",
    "\n",
    "First, define your dataset's code, e.g., 20210118095658605-414"
   ]
  },
  {
   "cell_type": "code",
   "execution_count": 8,
   "metadata": {},
   "outputs": [
    {
     "data": {
      "text/plain": [
       "'/home/jarunanp/siswork/sis-projects/20_08_openbis_training/openbis-training/Jupyter/20210118095658605-414/original/dog_read1.fasta.txt'"
      ]
     },
     "execution_count": 8,
     "metadata": {},
     "output_type": "execute_result"
    }
   ],
   "source": [
    "import os\n",
    "\n",
    "workdir = os.getcwd()\n",
    "datasetcode = '20210118095658605-414'\n",
    "path_to_dataset = os.path.join(workdir, datasetcode, 'original/dog_read1.fasta.txt')\n",
    "path_to_dataset"
   ]
  },
  {
   "cell_type": "markdown",
   "metadata": {},
   "source": [
    "Read the data"
   ]
  },
  {
   "cell_type": "code",
   "execution_count": 9,
   "metadata": {},
   "outputs": [
    {
     "name": "stdout",
     "output_type": "stream",
     "text": [
      "['>gnl|SRA|ERR3932823.1.1 1 (Biological, Reverse)\\n', 'GTCAAAGCGGTTTTTCTCTGCCCATCTGATTGCTCAGATTCCAATGTGAGACGTATTTCCTGTTAATAAGGATAAT\\n', '>gnl|SRA|ERR3932823.1.2 1 (Biological, Forward)\\n', 'GAATATTTTAACCATAGTACTACGGATAGTAAATTATCCTTATTAACAGGAAATACGTCTCACATTGGAATCTGAG']\n"
     ]
    }
   ],
   "source": [
    "with open(path_to_dataset) as seq_fasta:\n",
    "    seq_data = seq_fasta.readlines()\n",
    "    print(seq_data)"
   ]
  },
  {
   "cell_type": "markdown",
   "metadata": {},
   "source": [
    "Let's say our analysis task is to read sequencing data. Here, we read a FASTA file line by line and save a header in a variable and the sequence in another variable. Then, we count Cysteine residues."
   ]
  },
  {
   "cell_type": "code",
   "execution_count": 10,
   "metadata": {},
   "outputs": [
    {
     "name": "stdout",
     "output_type": "stream",
     "text": [
      "header  : >gnl|SRA|ERR3932823.1.2 1 (Biological, Forward)\n",
      "sequence: GTCAAAGCGGTTTTTCTCTGCCCATCTGATTGCTCAGATTCCAATGTGAGACGTATTTCCTGTTAATAAGGATAATGAATATTTTAACCATAGTACTACGGATAGTAAATTATCCTTATTAACAGGAAATACGTCTCACATTGGAATCTGAG\n",
      "No. of Cysterine residues: 27\n"
     ]
    }
   ],
   "source": [
    "seq = ''\n",
    "for line in seq_data:\n",
    "    if line[0] == '>':\n",
    "        header = line.strip()\n",
    "    else:\n",
    "        seq = seq + line.strip()\n",
    "        \n",
    "num_cys = seq.count(\"C\")\n",
    "\n",
    "print('header  : {}'.format(header))\n",
    "print('sequence: {}'.format(seq))\n",
    "print('No. of Cysterine residues: {}'.format(num_cys))"
   ]
  },
  {
   "cell_type": "markdown",
   "metadata": {},
   "source": [
    "## Upload the notebook and data to openBIS\n",
    "\n",
    "* Select `File` > `Save and checkpoint` to save your work\n",
    "* Select `File` > `Download as` > `HTML` to create a static version of the notebook\n",
    "* Click `upload Notebook and Data to openBIS` in the menu toolbar and fill in the dataset information\n",
    "    * **choose a dataSet type**: ANALYSIS_NOTEBOOK\n",
    "    * **Name**: Demo1\n",
    "    * **Notes**: Results of Demo1\n",
    "    * **enter a sample/experiment identifier to attach this dataSet to**: /JARUNANP_JARUNANP/TRAINING/JUPYTER-DEMO\n",
    "    * uncheck all **Parent Datasets**\n",
    "    * select **Files to upload**:\n",
    "        * Jupyter_to_openBIS_Demo_Notebook.html\n",
    "        * Jupyter_to_openBIS_Demo_Notebook.ipynb\n",
    "        \n",
    "    You can then see again a green message box at the top of the notebook. Here is an example:\n",
    "    ```\n",
    "    DataSet successfully registered: openbis-training with permId: 20210118101243066-415\n",
    "    ```\n",
    "    \n",
    "* Go to the lab notebook\n",
    "    * Reload the page\n",
    "    * Check under `My Space` > `Training` > `JUPYTER-DEMO` > `JUPYTER-DEMO`\n",
    "    \n",
    "      You can see that a new dataset `Demo1` is added. When you click at `Demo1` in the left menu navigation, you can see a folder `ANALYSIS_NOTEBOOK: Demo1` at the bottom of the page. The folder contains `Jupyter_to_openBIS_Demo_Notebook.html` and `Jupyter_to_openBIS_Demo_Notebook.ipynb` which you have uploaded from the Jupyter notebook."
   ]
  },
  {
   "cell_type": "code",
   "execution_count": null,
   "metadata": {},
   "outputs": [],
   "source": []
  }
 ],
 "metadata": {
  "datasets": {
   "20190328133056219-504": {
    "dataStore": "DSS1",
    "files": [
     "original/blobs.tif"
    ],
    "location": "A9911530-261D-4369-89E6-023D68E90BB5/a0/df/b1/20190328133056219-504",
    "path": "/Users/henry/Data/Projects/openbis-training/Jupyter/20190328133056219-504",
    "permId": "20190328133056219-504",
    "size": 65172,
    "status": "Data for DataSet 20190328133056219-504 was successfully downloaded to: /Users/henry/Data/Projects/openbis-training/Jupyter/20190328133056219-504."
   },
   "20190416155247870-52": {
    "dataStore": "DSS1",
    "location": "A5319554-6B31-4AB2-A293-796E2CE47336/e3/5a/14/20190416155247870-52",
    "path": "/home/openbis/Documents/20190416155247870-52",
    "permId": "20190416155247870-52",
    "size": 65172,
    "status": "Data for DataSet 20190416155247870-52 was successfully downloaded to: /home/openbis/Documents/20190416155247870-52."
   },
   "20200114134628751-71": {
    "dataStore": "DSS1",
    "files": [
     "original/blobs.tif"
    ],
    "location": "1CC55CFC-0BFD-49C0-9952-60C1964FEF6C/08/ab/8e/20200114134628751-71",
    "path": "/Users/henry/Data/Projects/openbis-training/Jupyter/20200114134628751-71",
    "permId": "20200114134628751-71",
    "size": 65172,
    "status": "Data for DataSet 20200114134628751-71 was successfully downloaded to: /Users/henry/Data/Projects/openbis-training/Jupyter/20200114134628751-71."
   },
   "20201116203541033-438": {
    "dataStore": "DSS1",
    "files": [
     "original/blobs.tif"
    ],
    "location": "1CC55CFC-0BFD-49C0-9952-60C1964FEF6C/1a/fa/ca/20201116203541033-438",
    "path": "/home/jarunanp/siswork/sis-projects/20_08_openbis_training/openbis-training/Jupyter/20201116203541033-438",
    "permId": "20201116203541033-438",
    "size": 65172,
    "status": "Data for DataSet 20201116203541033-438 was successfully downloaded to: /home/jarunanp/siswork/sis-projects/20_08_openbis_training/openbis-training/Jupyter/20201116203541033-438"
   },
   "20201117081240441-449": {
    "dataStore": "DSS1",
    "files": [
     "original/blobs.tif"
    ],
    "location": "1CC55CFC-0BFD-49C0-9952-60C1964FEF6C/7b/99/77/20201117081240441-449",
    "path": "/home/jarunanp/siswork/sis-projects/20_08_openbis_training/openbis-training/Jupyter/20201117081240441-449",
    "permId": "20201117081240441-449",
    "size": 65172,
    "status": "Data for DataSet 20201117081240441-449 was successfully downloaded to: /home/jarunanp/siswork/sis-projects/20_08_openbis_training/openbis-training/Jupyter/20201117081240441-449"
   },
   "20201118073257361-886": {
    "dataStore": "DSS1",
    "files": [
     "original/blobs.tif"
    ],
    "location": "1CC55CFC-0BFD-49C0-9952-60C1964FEF6C/74/c8/a7/20201118073257361-886",
    "path": "/home/jarunanp/siswork/sis-projects/20_08_openbis_training/openbis-training/Jupyter/20201118073257361-886",
    "permId": "20201118073257361-886",
    "size": 65172,
    "status": "Data for DataSet 20201118073257361-886 was successfully downloaded to: /home/jarunanp/siswork/sis-projects/20_08_openbis_training/openbis-training/Jupyter/20201118073257361-886"
   },
   "20201118082230725-896": {
    "dataStore": "DSS1",
    "files": [
     "original/blobs.tif"
    ],
    "location": "1CC55CFC-0BFD-49C0-9952-60C1964FEF6C/ce/8a/e4/20201118082230725-896",
    "path": "/home/jarunanp/siswork/sis-projects/20_08_openbis_training/openbis-training/Jupyter/20201118082230725-896",
    "permId": "20201118082230725-896",
    "size": 65172,
    "status": "Data for DataSet 20201118082230725-896 was successfully downloaded to: /home/jarunanp/siswork/sis-projects/20_08_openbis_training/openbis-training/Jupyter/20201118082230725-896"
   },
   "20210118095658605-414": {
    "dataStore": "DSS1",
    "files": [
     "original/dog_read1.fasta.txt"
    ],
    "location": "1CC55CFC-0BFD-49C0-9952-60C1964FEF6C/d8/0b/c4/20210118095658605-414",
    "path": "/home/jarunanp/siswork/sis-projects/20_08_openbis_training/openbis-training/Jupyter/20210118095658605-414",
    "permId": "20210118095658605-414",
    "size": 249,
    "status": "Data for DataSet 20210118095658605-414 was successfully downloaded to: /home/jarunanp/siswork/sis-projects/20_08_openbis_training/openbis-training/Jupyter/20210118095658605-414"
   }
  },
  "kernelspec": {
   "display_name": "Python 3",
   "language": "python",
   "name": "python3"
  },
  "language_info": {
   "codemirror_mode": {
    "name": "ipython",
    "version": 3
   },
   "file_extension": ".py",
   "mimetype": "text/x-python",
   "name": "python",
   "nbconvert_exporter": "python",
   "pygments_lexer": "ipython3",
   "version": "3.8.5"
  },
  "openbis": {
   "permIds": {}
  },
  "toc": {
   "base_numbering": 1,
   "nav_menu": {},
   "number_sections": true,
   "sideBar": true,
   "skip_h1_title": false,
   "title_cell": "Table of Contents",
   "title_sidebar": "Contents",
   "toc_cell": false,
   "toc_position": {
    "height": "calc(100% - 180px)",
    "left": "10px",
    "top": "150px",
    "width": "307.2px"
   },
   "toc_section_display": true,
   "toc_window_display": true
  }
 },
 "nbformat": 4,
 "nbformat_minor": 4
}
