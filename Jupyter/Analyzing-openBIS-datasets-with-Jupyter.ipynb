{
 "cells": [
  {
   "cell_type": "markdown",
   "metadata": {},
   "source": [
    "# Why the Jupyter Notebook?\n",
    "\n",
    "## Coding Python in a text editor\n",
    "\n",
    "I would like to create a plot using Python. To do this with, I wrote a script called `plot_array.py` in which I defined arrays `a = [0, 1, 2, ... , 9]` and $b=a \\cdot5$, and plot a graph. Then, I execute the script with command line in a terminal. The script showed the plot in a separate window. As you can see, here I have already three graphical user interfaces.\n",
    "\n",
    "<img src=\"images/python_in_text_editor.png\" width=\"800\" height=auto />\n"
   ]
  },
  {
   "cell_type": "markdown",
   "metadata": {},
   "source": [
    "## Coding Python in a Jupyter notebook\n",
    "\n",
    "With a Jupyter notebook, we can add code blocks with Python commands and text description. Then, we can execute the code and the plot is shown within the same Jupyter notebook."
   ]
  },
  {
   "cell_type": "code",
   "execution_count": null,
   "metadata": {
    "execution": {
     "iopub.execute_input": "2020-11-16T12:02:57.990981Z",
     "iopub.status.busy": "2020-11-16T12:02:57.990761Z",
     "iopub.status.idle": "2020-11-16T12:02:57.994319Z",
     "shell.execute_reply": "2020-11-16T12:02:57.993255Z",
     "shell.execute_reply.started": "2020-11-16T12:02:57.990959Z"
    }
   },
   "outputs": [],
   "source": [
    "import numpy as np\n",
    "import matplotlib.pyplot as plt\n",
    "\n",
    "%matplotlib inline"
   ]
  },
  {
   "cell_type": "markdown",
   "metadata": {},
   "source": [
    "Define the Python array `a`:"
   ]
  },
  {
   "cell_type": "code",
   "execution_count": null,
   "metadata": {
    "execution": {
     "iopub.execute_input": "2020-11-16T12:02:58.663560Z",
     "iopub.status.busy": "2020-11-16T12:02:58.662644Z",
     "iopub.status.idle": "2020-11-16T12:02:58.680073Z",
     "shell.execute_reply": "2020-11-16T12:02:58.678269Z",
     "shell.execute_reply.started": "2020-11-16T12:02:58.663462Z"
    }
   },
   "outputs": [],
   "source": [
    "a = np.arange(10)\n",
    "a"
   ]
  },
  {
   "cell_type": "markdown",
   "metadata": {},
   "source": [
    "Compute the array $b=a \\cdot 5$:"
   ]
  },
  {
   "cell_type": "code",
   "execution_count": null,
   "metadata": {
    "execution": {
     "iopub.execute_input": "2020-11-16T12:02:59.448544Z",
     "iopub.status.busy": "2020-11-16T12:02:59.447638Z",
     "iopub.status.idle": "2020-11-16T12:02:59.464777Z",
     "shell.execute_reply": "2020-11-16T12:02:59.461661Z",
     "shell.execute_reply.started": "2020-11-16T12:02:59.448448Z"
    }
   },
   "outputs": [],
   "source": [
    "b = a*5\n",
    "b"
   ]
  },
  {
   "cell_type": "markdown",
   "metadata": {},
   "source": [
    "Plot a graph of these arrays"
   ]
  },
  {
   "cell_type": "code",
   "execution_count": null,
   "metadata": {
    "execution": {
     "iopub.execute_input": "2020-11-16T12:03:00.681973Z",
     "iopub.status.busy": "2020-11-16T12:03:00.681318Z",
     "iopub.status.idle": "2020-11-16T12:03:00.847570Z",
     "shell.execute_reply": "2020-11-16T12:03:00.846877Z",
     "shell.execute_reply.started": "2020-11-16T12:03:00.681864Z"
    }
   },
   "outputs": [],
   "source": [
    "plt.plot(a,b, \"ro-\")\n",
    "plt.show()"
   ]
  },
  {
   "cell_type": "markdown",
   "metadata": {},
   "source": [
    "As we can combine coding, documenting and executing codes, we can develop a program interactively and maintain documentation at the same time. We can also share Jupyter notebook containing all the code and description which help collaborator to understand and reproduce the results. The Jupyter notebook is also not limited only to Python but supports over 40 programming languages including R, Julia and Scala."
   ]
  },
  {
   "cell_type": "markdown",
   "metadata": {},
   "source": [
    "## Use the Jupyter Notebook\n",
    "\n",
    "* Local installation\n",
    "\n",
    "    * Jupyter Notebook is a web-based application. Each notebook has its own tab on a web browser.\n",
    "      <figure>\n",
    "          <img src=\"images/jupyterpreview.png\" width=\"600\" height=auto />\n",
    "         <figcaption style=\"text-align:right\">Image source: https://jupyter.org/ </figcaption>\n",
    "      </figure> \n",
    "\n",
    "    * Jupyter Lab is the next-generation Jupyter user interface which includes notebooks. Each notebook is a tab in this application giving an IDE-like user experience.    \n",
    "     <figure text-align=\"center\">\n",
    "         <img src=\"images/labpreview.png\" width=\"1000\" height=auto />\n",
    "         <figcaption style=\"text-align:right\">Image source: https://jupyter.org/ </figcaption>\n",
    "     </figure> \n",
    "    \n",
    "    \n",
    "* Jupyter Hub server: a multi-user hub, e.g., on a virtual machine on the cloud\n",
    "\n",
    "\n",
    "* Public cloud-based services\n",
    "    * [Google Colab](https://colab.research.google.com/notebooks/intro.ipynb#)\n",
    "    * [MyBinder](https://mybinder.org/) \n",
    "    * [EGI Notebooks](https://www.egi.eu/services/notebooks/)"
   ]
  },
  {
   "cell_type": "markdown",
   "metadata": {},
   "source": [
    "## Install & run the Jupyter Notebook\n",
    "\n",
    "* Option 1: Anaconda includes Python, Jupyter, Python packages for scientific computing and data science.\n",
    "    * [Download Anaconda with Python3](https://www.anaconda.com/products/individual)\n",
    "    * Install Anaconda\n",
    "   \n",
    "    \n",
    "    \n",
    "* Option 2: Using `pip`\n",
    "    * [Download Python3](https://www.python.org/downloads/)\n",
    "    * Install Python3\n",
    "    * In a terminal,\n",
    "    ```bash\n",
    "    $ pip3 install --upgrade pip\n",
    "    ```\n",
    "    \n",
    "    ```bash\n",
    "    $ pip3 install jupyter\n",
    "    ```\n",
    "\n",
    "\n",
    "* Run the notebook in a terminal,\n",
    "\n",
    "    ```bash\n",
    "    $ jupyter notebook\n",
    "    ``` "
   ]
  },
  {
   "cell_type": "markdown",
   "metadata": {},
   "source": [
    "# openBIS & Jupyter\n",
    "\n",
    "Here we would like to demonstrate how to connect an openBIS server with a Jupyter notebook in which you can interactively perform data analysis.\n",
    "\n",
    "**Option 1: From Jupyter to openBIS**\n",
    "<br>\n",
    "<br>\n",
    "<img src=\"images/option1.png\" width=\"600\" height=auto />\n",
    "\n",
    "**Option 2: From openBIS to Jupyter**\n",
    "<br>\n",
    "<br>\n",
    "<img src=\"images/option2.png\" width=\"600\" height=auto />"
   ]
  },
  {
   "cell_type": "markdown",
   "metadata": {},
   "source": [
    "## Prepare a project on openBIS\n",
    "\n",
    "\n",
    "* Download the openbis-training repository\n",
    "```bash\n",
    "$ git clone https://gitlab.ethz.ch/sis-rdm-training/openbis-training.git\n",
    "```\n",
    "\n",
    "* Or update the repository when you have already cloned the `openbis-training` folder\n",
    "```bash\n",
    "$ cd openbis-training\n",
    "$ git pull origin master\n",
    "```\n",
    "\n",
    "* On a browser, go to https://openbis-training.ethz.ch/openbis/webapp/eln-lims/\n",
    "* Go to Lab Notebook > My Space\n",
    "* Create a new project `+ New project`\n",
    "    * Code(*): Training\n",
    "    * Click `Save`\n",
    "* Under the project `Training`, create an experiment `+ New` > `Default Experiment`\n",
    "    * Code(*): JUPYTER-DEMO\n",
    "    * Click `Save`\n",
    "* Under the experiment `JUPYTER-DEMO`, create an experiment step `+ New` > `Experimental Step`\n",
    "    * Code(*): JUPYTER-DEMO\n",
    "    * Click `Save`\n",
    "* Under the experimental step, upload an image, click on `Upload`\n",
    "    * Data Set Type(*): Raw Data\n",
    "    * Click on `Select files to upload`\n",
    "    * Select the image `blobs.tif`\n",
    "    * Click `Save`"
   ]
  },
  {
   "cell_type": "markdown",
   "metadata": {},
   "source": [
    "## Prepare an environment for Demo 1\n",
    "\n",
    "* Install packages\n",
    "```bash\n",
    "$ pip install --upgrade numpy matplotlib scikit-image\n",
    "```\n",
    "\n",
    "\n",
    "* Install jupyter-openbis extension\n",
    "```bash\n",
    "$ pip install --upgrade jupyter-openbis-extension\n",
    "$ jupyter serverextension enable --py jupyter-openbis-server\n",
    "```"
   ]
  },
  {
   "cell_type": "markdown",
   "metadata": {},
   "source": [
    "## Demo 1: From Jupyter to openBIS\n",
    "\n",
    "<br>\n",
    "<br>\n",
    "<img src=\"images/option1.png\" width=\"600\" height=auto />"
   ]
  },
  {
   "cell_type": "markdown",
   "metadata": {},
   "source": [
    "### Configure the connection from a Jupyter notebook to the openBIS database\n",
    "\n",
    "* Open a Jupyter notebook\n",
    "* Click on `configure openBIS connections` button in the toolbar\n",
    "* Enter \n",
    "    * Name: openbis-training\n",
    "    * URL: https://openbis-training.ethz.ch/openbis/webapp/eln-lims/\n",
    "    * Your username and password\n",
    "    * Click `Create`\n",
    "* After the status shows `connected`, choose this connection and click `Choose connection`"
   ]
  },
  {
   "cell_type": "markdown",
   "metadata": {},
   "source": [
    "### Download a dataset\n",
    "* Go to the lab notebook\n",
    "   * Click on the dataset > `More...` > `Show Identification Info`\n",
    "    * Copy the path under `Object:`, e.g., /JARUNANP_JARUNANP/TRAINING/JUPYTER-DEMO\n",
    "* Go to the Jupyter notebook\n",
    "    * Click on `Download openBIS datasets` button in the toolbar\n",
    "    * Paste the path to `Entity Identifier/permid:`\n",
    "    * Click `show datasets`\n",
    "    * Select the dataset and click `Download`"
   ]
  },
  {
   "cell_type": "markdown",
   "metadata": {},
   "source": [
    "### Run the image anylasis \n",
    "\n",
    "Run the analysis in `Jupyter_Demo_Notebook.ipynb` until the end"
   ]
  },
  {
   "cell_type": "markdown",
   "metadata": {},
   "source": [
    "### Upload the notebook and data to openBIS\n",
    "\n",
    "* Select `File` > `Save and checkpoint` to save your work\n",
    "* Select `File` > `Download as` > `HTML` to create a static version of the notebook\n",
    "* Click `upload Notebook and Data to openBIS` in the menu toolbar and fill in the dataset information\n",
    "    * **choose a dataSet type**: ANALYSIS_NOTEBOOK\n",
    "    * **Name**: Demo1\n",
    "    * **Notes**: Results of Demo1\n",
    "    * **enter a sample/experiment identifier to attach this dataSet to**: /JARUNANP_JARUNANP/TRAINING/JUPYTER-DEMO\n",
    "    * uncheck all **Parent Datasets**\n",
    "    * select **Files to upload**:\n",
    "        * Jupyter_Demo_Notebook.html\n",
    "        * Jupyter_Demo_Notebook.ipynb"
   ]
  },
  {
   "cell_type": "markdown",
   "metadata": {},
   "source": [
    "## Demo 2: From openBIS to Jupyter\n",
    "\n",
    "<br>\n",
    "<br>\n",
    "<img src=\"images/option2.png\" width=\"600\" height=auto />"
   ]
  },
  {
   "cell_type": "markdown",
   "metadata": {},
   "source": [
    "### Open a Jupyter notebook from openBIS\n",
    "\n",
    "* In the lab notebook, click on the experimental step `JUPYTER-DEMO`\n",
    "* Click on `More...`\n",
    "* Select `New Jupyter notebook`\n",
    "* Press `Create & connect`\n",
    "* In the next widget, fill in\n",
    "    * **Directory Name**: training\n",
    "    * **Notebook Name**: openBIS_to_Jupyter\n",
    "* Press `Accept & Open`\n",
    "* Login to Jupyter Hub with your username and password"
   ]
  },
  {
   "cell_type": "markdown",
   "metadata": {},
   "source": [
    "### Connect and download a dataset\n",
    "\n",
    "* Execute the variables in the beginning of the notebook\n",
    "\n",
    "* Define `resultDatasetName` and `resultDatasetNotes`, e.g.,\n",
    "\n",
    "```\n",
    "resultDatasetName='Demo2'\n",
    "resultDatasetNotes='Results of Demo2'\n",
    "```\n",
    "\n",
    "* Connect to openBIS by running the cell:\n",
    "\n",
    "  ```\n",
    "  from pybis import Openbis\n",
    "  o = Openbis()\n",
    "  ```\n",
    "\n",
    "  If an error message shows \"Session is no longer valid. Please log in again.\", add a cell with your login username\n",
    "\n",
    "  ```\n",
    "  o.login(username='yourusername')\n",
    "  ```\n",
    "  \n",
    "* Download a dataset\n",
    "* Under the section **Process the data**, copy analysis process from `Jupyter_Demo_Notebook.ipynb`\n",
    "* Under the section **Saving the results**, change type to `ANALYSIS_NOTEBOOK`\n",
    "* Upload the notebook back to openBIS"
   ]
  },
  {
   "cell_type": "code",
   "execution_count": null,
   "metadata": {},
   "outputs": [],
   "source": []
  }
 ],
 "metadata": {
  "datasets": {
   "20200814125627110-690": {
    "dataStore": "DSS1",
    "files": [
     "original/blobs.tif"
    ],
    "location": "1CC55CFC-0BFD-49C0-9952-60C1964FEF6C/88/ad/7a/20200814125627110-690",
    "path": "/home/jarunanp/siswork/sis-projects/20_08_openbis_training/openbis-training/Jupyter/jarunan/20200814125627110-690",
    "permId": "20200814125627110-690",
    "size": 65172,
    "status": "Data for DataSet 20200814125627110-690 was successfully downloaded to: /home/jarunanp/siswork/sis-projects/20_08_openbis_training/openbis-training/Jupyter/jarunan/20200814125627110-690"
   }
  },
  "kernelspec": {
   "display_name": "Python 3",
   "language": "python",
   "name": "python3"
  },
  "language_info": {
   "codemirror_mode": {
    "name": "ipython",
    "version": 3
   },
   "file_extension": ".py",
   "mimetype": "text/x-python",
   "name": "python",
   "nbconvert_exporter": "python",
   "pygments_lexer": "ipython3",
   "version": "3.6.6"
  },
  "toc": {
   "base_numbering": 1,
   "nav_menu": {},
   "number_sections": true,
   "sideBar": true,
   "skip_h1_title": false,
   "title_cell": "Table of Contents",
   "title_sidebar": "Contents",
   "toc_cell": false,
   "toc_position": {
    "height": "calc(100% - 180px)",
    "left": "10px",
    "top": "150px",
    "width": "193.333px"
   },
   "toc_section_display": true,
   "toc_window_display": true
  }
 },
 "nbformat": 4,
 "nbformat_minor": 4
}
