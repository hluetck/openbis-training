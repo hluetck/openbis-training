{
 "cells": [
  {
   "cell_type": "markdown",
   "metadata": {},
   "source": [
    "# Why Jupyter?\n",
    "\n",
    "## Coding Python in a text editor\n",
    "\n",
    "I would like to create a plot using Python. To do this with, I wrote a script called `plot_array.py` in which I defined arrays `a = [0, 1, 2, ... , 9]` and $b=a \\cdot5$, and plot a graph. Then, I execute the script with command line in a terminal. The script showed the plot in a separate window. As you can see, here I have already three graphical user interfaces.\n",
    "\n",
    "<img src=\"images/python_in_text_editor.png\" width=\"800\" height=auto />\n"
   ]
  },
  {
   "cell_type": "markdown",
   "metadata": {},
   "source": [
    "## Coding Python in a Jupyter notebook\n",
    "\n",
    "With a Jupyter notebook, we can add code blocks with Python commands and text description. Then, we can execute the code and the plot is shown within the same Jupyter notebook."
   ]
  },
  {
   "cell_type": "code",
   "execution_count": 3,
   "metadata": {},
   "outputs": [],
   "source": [
    "import numpy as np\n",
    "import matplotlib.pyplot as plt\n",
    "\n",
    "%matplotlib inline"
   ]
  },
  {
   "cell_type": "markdown",
   "metadata": {},
   "source": [
    "Define the Python array `a`:"
   ]
  },
  {
   "cell_type": "code",
   "execution_count": 7,
   "metadata": {},
   "outputs": [
    {
     "data": {
      "text/plain": [
       "array([0, 1, 2, 3, 4, 5, 6, 7, 8, 9])"
      ]
     },
     "execution_count": 7,
     "metadata": {},
     "output_type": "execute_result"
    }
   ],
   "source": [
    "a = np.arange(10)\n",
    "a"
   ]
  },
  {
   "cell_type": "markdown",
   "metadata": {},
   "source": [
    "Compute the array $b=a \\cdot 5$:"
   ]
  },
  {
   "cell_type": "code",
   "execution_count": 5,
   "metadata": {},
   "outputs": [
    {
     "data": {
      "text/plain": [
       "array([ 0,  5, 10, 15, 20, 25, 30, 35, 40, 45])"
      ]
     },
     "execution_count": 5,
     "metadata": {},
     "output_type": "execute_result"
    }
   ],
   "source": [
    "b = a*5\n",
    "b"
   ]
  },
  {
   "cell_type": "markdown",
   "metadata": {},
   "source": [
    "Plot a graph of these arrays"
   ]
  },
  {
   "cell_type": "code",
   "execution_count": 8,
   "metadata": {},
   "outputs": [
    {
     "data": {
      "image/png": "[encoded data removed]",
      "text/plain": [
       "<Figure size 432x288 with 1 Axes>"
      ]
     },
     "metadata": {
      "needs_background": "light"
     },
     "output_type": "display_data"
    }
   ],
   "source": [
    "plt.plot(a,b, \"ro-\")\n",
    "plt.show()"
   ]
  },
  {
   "cell_type": "markdown",
   "metadata": {},
   "source": [
    "As we can combine coding, documenting and executing codes, we can develop a program interactively and maintain documentation at the same time. We can also share Jupyter notebook containing all the code and description which help collaborator to understand and reproduce the results. The Jupyter notebook is also not limited only to Python but supports over 40 programming languages including R, Julia and Scala."
   ]
  },
  {
   "cell_type": "markdown",
   "metadata": {},
   "source": [
    "## Use Jupyter\n",
    "\n",
    "* Local installation\n",
    "\n",
    "    * Jupyter Notebook is a web-based application. Each notebook has its own tab on a web browser.\n",
    "      <figure>\n",
    "          <img src=\"images/jupyterpreview.png\" width=\"600\" height=auto />\n",
    "         <figcaption style=\"text-align:right\">Image source: https://jupyter.org/ </figcaption>\n",
    "      </figure> \n",
    "\n",
    "    * Jupyter Lab is the next-generation Jupyter user interface which includes notebooks. Each notebook is a tab in this application giving an IDE-like user experience.    \n",
    "     <figure text-align=\"center\">\n",
    "         <img src=\"images/labpreview.png\" width=\"1000\" height=auto />\n",
    "         <figcaption style=\"text-align:right\">Image source: https://jupyter.org/ </figcaption>\n",
    "     </figure> \n",
    "    \n",
    "    \n",
    "* Jupyter Hub server: a multi-user hub, e.g., on a virtual machine on the cloud\n",
    "\n",
    "\n",
    "* Public cloud-based services\n",
    "    * [Google Colab](https://colab.research.google.com/notebooks/intro.ipynb#)\n",
    "    * [MyBinder](https://mybinder.org/) \n",
    "    * [EGI Notebooks](https://www.egi.eu/services/notebooks/)"
   ]
  },
  {
   "cell_type": "markdown",
   "metadata": {},
   "source": [
    "## Install & run Jupyter\n",
    "\n",
    "* Option 1: Anaconda includes Python, Jupyter, Python packages for scientific computing and data science.\n",
    "    * [Download Anaconda with Python3](https://www.anaconda.com/products/individual)\n",
    "    * Install Anaconda\n",
    "   \n",
    "    \n",
    "    \n",
    "* Option 2: Using `pip`\n",
    "    * [Download Python3](https://www.python.org/downloads/)\n",
    "    * Install Python3\n",
    "    * In a terminal\n",
    "    \n",
    "    ```bash\n",
    "    $ pip3 install --upgrade pip\n",
    "    ```\n",
    "    \n",
    "    ```bash\n",
    "    $ pip3 install jupyter\n",
    "    ```\n",
    "    \n",
    "\n",
    "* Run Jupyter Notebook or Jupyter Lab\n",
    "\n",
    "    ```bash\n",
    "    $ jupyter notebook\n",
    "    ```\n",
    "    \n",
    "    ```bash\n",
    "    $ jupyter lab\n",
    "    ```"
   ]
  },
  {
   "cell_type": "markdown",
   "metadata": {},
   "source": [
    "# openBIS & Jupyter\n",
    "\n",
    "Here we would like to demonstrate how to connect an openBIS server with Jupyter in which you can interactively perform data analysis.\n",
    "\n",
    "**Option 1: From Jupyter to openBIS**\n",
    "<br>\n",
    "<br>\n",
    "<img src=\"images/option1.png\" width=\"600\" height=auto />\n",
    "\n",
    "**Option 2: From openBIS to Jupyter**\n",
    "<br>\n",
    "<br>\n",
    "<img src=\"images/option2.png\" width=\"600\" height=auto />"
   ]
  },
  {
   "cell_type": "markdown",
   "metadata": {},
   "source": [
    "## Prepare a project on openBIS\n",
    "\n",
    "\n",
    "* Download the openbis-training repository\n",
    "\n",
    "\n",
    "```bash\n",
    "$ git clone https://gitlab.ethz.ch/sis-rdm-training/openbis-training.git\n",
    "```\n",
    "\n",
    "\n",
    "* Or update the repository when you have already cloned the `openbis-training` folder\n",
    "\n",
    "\n",
    "```bash\n",
    "$ cd openbis-training\n",
    "$ git pull origin master\n",
    "```\n",
    "\n",
    "\n",
    "* On a browser, go to https://openbis-training.ethz.ch/openbis/webapp/eln-lims/\n",
    "* Go to openBIS Lab Notebook > My Space\n",
    "* Create a new project `+ New project`\n",
    "    * Code(*): Training\n",
    "    * Click `Save`\n",
    "* Click on the project `Training` \n",
    "    * Create an experiment `+ New` > `Default Experiment`\n",
    "    * Code(*): JUPYTER-DEMO\n",
    "    * Click `Save`\n",
    "* Click on the experiment `JUPYTER-DEMO` \n",
    "    * Create an experiment step `+ New` > `Experimental Step`\n",
    "    * Click on the drop down box `More...`\n",
    "    * Select `Show Identification Info`\n",
    "    * Code(*): JUPYTER-DEMO\n",
    "    * Click `Save`\n",
    "* Click on the experimental step `JUPYTER-DEMO`, upload a file, click on `Upload`\n",
    "    * Data Set Type(*): Raw Data\n",
    "    * Click on `Select files to upload` at the bottom of the page\n",
    "    * Select the file `dog_read1.fasta.txt`\n",
    "    * Click `Save`"
   ]
  },
  {
   "cell_type": "markdown",
   "metadata": {},
   "source": [
    "## Prepare an environment for Demo 1\n",
    "\n",
    "Install `jupyter-openbis` extension\n",
    "\n",
    "\n",
    "```bash\n",
    "$ pip install --upgrade jupyter-openbis-extension\n",
    "```\n",
    "\n",
    "For Jupyter Notebook, enable the `jupyter-openbis` extension\n",
    "\n",
    "\n",
    "```bash\n",
    "$ jupyter serverextension enable --py jupyter-openbis-server\n",
    "```\n",
    "\n",
    "\n",
    "For Jupyter Lab\n",
    "\n",
    "* Install nodejs with a [package manager](https://nodejs.org/en/download/package-manager/) or by conda\n",
    "\n",
    "```bash\n",
    "$ conda install nodejs\n",
    "``` \n",
    "\n",
    "* Install `jupyterlab-openbis` extension\n",
    "\n",
    "```bash\n",
    "$ jupyter labextension install jupyterlab-openbis@0.2.0\n",
    "```"
   ]
  },
  {
   "cell_type": "markdown",
   "metadata": {},
   "source": [
    "When `jupyter-openbis-extension` has been installed and enabled, you can see these three extra buttons in the toolbar.\n",
    "\n",
    "\n",
    "|     | Jupyter Notebook |  Jupyter Lab |\n",
    "|----------|:-------------:|:---:|\n",
    "| <img src=\"images/jupyter-openbis-extension-button1.png\" width=\"50\" height=auto /> |  configure openBIS connections | Choose openBIS connection |\n",
    "| <img src=\"images/jupyter-openbis-extension-button2.png\" width=\"50\" height=auto /> |  Download openBIS datasets | Download openBIS datasets |\n",
    "| <img src=\"images/jupyter-openbis-extension-button3.png\" width=\"50\" height=auto /> | upload Notebook and Data to openBIS | Upload openBIS datasets|"
   ]
  },
  {
   "cell_type": "markdown",
   "metadata": {},
   "source": [
    "## Demo 1: From Jupyter to openBIS\n",
    "\n",
    "<br>\n",
    "<br>\n",
    "<img src=\"images/option1.png\" width=\"600\" height=auto />"
   ]
  },
  {
   "cell_type": "markdown",
   "metadata": {},
   "source": [
    "### Configure the connection from Jupyter to openBIS\n",
    "\n",
    "* Click on  <img src=\"images/jupyter-openbis-extension-button1.png\" width=\"35\" height=auto />  to configure a connection to openBIS\n",
    "* Fill in the connection information \n",
    "    * Name: openbis-training\n",
    "    * URL: https://openbis-training.ethz.ch/openbis/webapp/eln-lims/\n",
    "    * Your username and password\n",
    "    * Click `Create`\n",
    "* After the status shows `connected`\n",
    "    * In Jupyter Notebook, choose this connection and click `Choose connection`\n",
    "    * In Jupyter Lab, the connection is selected automatically, then click `Close`"
   ]
  },
  {
   "cell_type": "markdown",
   "metadata": {},
   "source": [
    "### Download a dataset\n",
    "* Go to openBIS lab notebook\n",
    "   * Click on the dataset > `More...` > `Show Identification Info`\n",
    "    * Copy the path under `Object:`, e.g., /JARUNANP_JARUNANP/TRAINING/JUPYTER-DEMO\n",
    "* Go to the Jupyter notebook\n",
    "    * Click on `Download openBIS datasets` <img src=\"images/jupyter-openbis-extension-button2.png\" width=\"35\" height=auto /> button in the toolbar\n",
    "    * Paste the path to `Entity Identifier/permid:`\n",
    "    * Click `show datasets`\n",
    "    * Select the dataset \n",
    "    * Download\n",
    "        * In Jupyter Notebook, click `Download` \n",
    "        * In Jupyter Lab, click `Download selected` and `Close`"
   ]
  },
  {
   "cell_type": "markdown",
   "metadata": {},
   "source": [
    "### Run analysis \n",
    "\n",
    "Run the analysis in `Jupyter_to_openBIS_Demo_Notebook.ipynb` "
   ]
  },
  {
   "cell_type": "markdown",
   "metadata": {},
   "source": [
    "### Upload the notebook and data to openBIS\n",
    "\n",
    "**In Jupyter Notebook**\n",
    "* Select `File` > `Save and checkpoint` to save your work\n",
    "* Select `File` > `Download as` > `HTML` to create a static version of the notebook\n",
    "* Click on <img src=\"images/jupyter-openbis-extension-button3.png\" width=\"35\" height=auto /> in the menu toolbar to upload the notebook and data to openBIS, and fill in the dataset information\n",
    "    * **choose a dataSet type**: ANALYSIS_NOTEBOOK\n",
    "    * **Name**: Demo1\n",
    "    * **Notes**: Results of Demo1\n",
    "    * **enter a sample/experiment identifier to attach this dataSet to**: /JARUNANP_JARUNANP/TRAINING/JUPYTER-DEMO\n",
    "    * uncheck all **Parent Datasets**\n",
    "    * Select **Files to upload**:\n",
    "        * Jupyter_to_openBIS_Demo_Notebook.html\n",
    "        * Jupyter_to_openBIS_Demo_Notebook.ipynb\n",
    "    * Click `Upload`"
   ]
  },
  {
   "cell_type": "markdown",
   "metadata": {},
   "source": [
    "**In Jupyter Lab**\n",
    "* Select `File` > `Save Notebook` to save your work\n",
    "* Select `File` > `Export Notebook As...` > `Export Notebook to HTML` to create a static version of the notebook\n",
    "* Click on <img src=\"images/jupyter-openbis-extension-button3.png\" width=\"35\" height=auto /> in the menu toolbar to upload the notebook and data to openBIS, and fill in the dataset information\n",
    "    * **Select dataSet type**: ANALYSIS_NOTEBOOK\n",
    "    * **Name**: Demo1\n",
    "    * **Notes**: Results of Demo1\n",
    "    * **Sample/experiment identifier**: /JARUNANP_JARUNANP/TRAINING/JUPYTER-DEMO\n",
    "        * Select **Files to upload**:\n",
    "            * Jupyter_to_openBIS_Demo_Notebook.html\n",
    "            * Jupyter_to_openBIS_Demo_Notebook.ipynb\n",
    "        * Click `Upload` and `Close`"
   ]
  },
  {
   "cell_type": "markdown",
   "metadata": {},
   "source": [
    "* Go to openBIS lab notebook\n",
    "    * Reload the page\n",
    "    * Check under `My Space` > `Training` > `JUPYTER-DEMO` > `JUPYTER-DEMO`\n",
    "    \n",
    "You can see that a new dataset `Demo1` is added. When you click at `Demo1` in the left menu navigation, you can see a folder `ANALYSIS_NOTEBOOK: Demo1` at the bottom of the page. The folder contains `Jupyter_to_openBIS_Demo_Notebook.html` and `Jupyter_to_openBIS_Demo_Notebook.ipynb` which you have uploaded from the Jupyter notebook.\n",
    "    "
   ]
  },
  {
   "cell_type": "markdown",
   "metadata": {},
   "source": [
    "## Demo 2: From openBIS to Jupyter\n",
    "\n",
    "<br>\n",
    "<br>\n",
    "<img src=\"images/option2.png\" width=\"600\" height=auto />"
   ]
  },
  {
   "cell_type": "markdown",
   "metadata": {},
   "source": [
    "### Open a Jupyter notebook from openBIS\n",
    "\n",
    "* In openBIS lab notebook, click on the experimental step `JUPYTER-DEMO`\n",
    "* Click on `More...`\n",
    "* Select `New Jupyter notebook`\n",
    "* Press `Create & connect`\n",
    "* In the next widget, fill in\n",
    "    * **Directory Name**: training\n",
    "    * **Notebook Name**: openBIS_to_Jupyter_Demo_Notebook\n",
    "* Press `Accept & Open`\n",
    "* Login to Jupyter Hub with your username and password"
   ]
  },
  {
   "cell_type": "markdown",
   "metadata": {},
   "source": [
    "### Connect and download a dataset\n",
    "\n",
    "* Execute the first three cells (`fileName`, `resultDatasetParents` and `resultDatasetHistoryID`) in the beginning of the notebook\n",
    "\n",
    "* Define `resultDatasetName` and `resultDatasetNotes`, and execute the cells\n",
    "\n",
    "```\n",
    "resultDatasetName='Demo2'\n",
    "resultDatasetNotes='Results of Demo2'\n",
    "```\n",
    "\n",
    "* Connect to openBIS by running the cell:\n",
    "\n",
    "  ```\n",
    "  from pybis import Openbis\n",
    "  o = Openbis()\n",
    "  ```\n",
    "\n",
    "\n",
    "* If an error message shows \"Session is no longer valid. Please log in again.\", add a cell with your login username\n",
    "\n",
    "  ```\n",
    "  o.login(username='yourusername')\n",
    "  ```\n",
    "  \n",
    "  \n",
    "* Download a dataset\n",
    "* Under the section **Process the data**, copy analysis process from `Jupyter_to_openBIS_Demo_Notebook.ipynb`\n",
    "* Under the section **Saving the results**, in the last cell, change type to `ANALYSIS_NOTEBOOK`\n",
    "* Upload the notebook back to openBIS"
   ]
  },
  {
   "cell_type": "markdown",
   "metadata": {},
   "source": [
    "* Go to openBIS lab notebook\n",
    "    * Reload the page\n",
    "    * Check under `My Space` > `Training` > `JUPYTER-DEMO` > `JUPYTER-DEMO`\n",
    "    \n",
    "      You can see that a new dataset `Demo2` is added. When you click at `Demo2` in the left menu navigation, you can see a folder `ANALYSIS_NOTEBOOK: Demo2` at the bottom of the page. The folder contains `openBIS_to_Jupyter_Demo_Notebook.html` and `openBIS_to_Jupyter_Demo_Notebook.ipynb` which you have uploaded from the Jupyter notebook."
   ]
  },
  {
   "cell_type": "code",
   "execution_count": null,
   "metadata": {},
   "outputs": [],
   "source": []
  }
 ],
 "metadata": {
  "datasets": {
   "20200814125627110-690": {
    "dataStore": "DSS1",
    "files": [
     "original/blobs.tif"
    ],
    "location": "1CC55CFC-0BFD-49C0-9952-60C1964FEF6C/88/ad/7a/20200814125627110-690",
    "path": "/home/jarunanp/siswork/sis-projects/20_08_openbis_training/openbis-training/Jupyter/jarunan/20200814125627110-690",
    "permId": "20200814125627110-690",
    "size": 65172,
    "status": "Data for DataSet 20200814125627110-690 was successfully downloaded to: /home/jarunanp/siswork/sis-projects/20_08_openbis_training/openbis-training/Jupyter/jarunan/20200814125627110-690"
   }
  },
  "kernelspec": {
   "display_name": "Python 3",
   "language": "python",
   "name": "python3"
  },
  "language_info": {
   "codemirror_mode": {
    "name": "ipython",
    "version": 3
   },
   "file_extension": ".py",
   "mimetype": "text/x-python",
   "name": "python",
   "nbconvert_exporter": "python",
   "pygments_lexer": "ipython3",
   "version": "3.8.5"
  },
  "toc": {
   "base_numbering": 1,
   "nav_menu": {},
   "number_sections": true,
   "sideBar": true,
   "skip_h1_title": false,
   "title_cell": "Table of Contents",
   "title_sidebar": "Contents",
   "toc_cell": false,
   "toc_position": {
    "height": "calc(100% - 180px)",
    "left": "10px",
    "top": "150px",
    "width": "260px"
   },
   "toc_section_display": true,
   "toc_window_display": false
  }
 },
 "nbformat": 4,
 "nbformat_minor": 4
}
