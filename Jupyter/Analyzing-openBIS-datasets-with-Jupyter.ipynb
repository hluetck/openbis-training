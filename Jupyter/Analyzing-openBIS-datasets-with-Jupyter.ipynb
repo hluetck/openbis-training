{
 "cells": [
  {
   "cell_type": "markdown",
   "metadata": {},
   "source": [
    "# Why the Jupyter Notebook?\n",
    "\n",
    "## Coding Python in a text editor\n",
    "\n",
    "I would like to create a plot using Python. To do this with, I wrote a script called `plot_array.py` in which I defined arrays `a = [0, 1, 2, ... , 9]` and $b=a \\cdot5$, and plot a graph. Then, I execute the script with command line in a terminal. The script showed the plot in a separate window. As you can see, here I have already three graphical user interfaces.\n",
    "\n",
    "<img src=\"images/python_in_text_editor.png\" width=\"800\" height=auto />\n"
   ]
  },
  {
   "cell_type": "markdown",
   "metadata": {},
   "source": [
    "## Coding Python in a Jupyter notebook\n",
    "\n",
    "With a Jupyter notebook, we can add code blocks with Python commands and text description. Then, we can execute the code and the plot is shown within the same Jupyter notebook."
   ]
  },
  {
   "cell_type": "code",
   "execution_count": 2,
   "metadata": {
    "execution": {
     "iopub.execute_input": "2020-11-16T12:02:57.990981Z",
     "iopub.status.busy": "2020-11-16T12:02:57.990761Z",
     "iopub.status.idle": "2020-11-16T12:02:57.994319Z",
     "shell.execute_reply": "2020-11-16T12:02:57.993255Z",
     "shell.execute_reply.started": "2020-11-16T12:02:57.990959Z"
    }
   },
   "outputs": [],
   "source": [
    "import numpy as np\n",
    "import matplotlib.pyplot as plt"
   ]
  },
  {
   "cell_type": "markdown",
   "metadata": {},
   "source": [
    "Define the Python array `a`:"
   ]
  },
  {
   "cell_type": "code",
   "execution_count": 3,
   "metadata": {
    "execution": {
     "iopub.execute_input": "2020-11-16T12:02:58.663560Z",
     "iopub.status.busy": "2020-11-16T12:02:58.662644Z",
     "iopub.status.idle": "2020-11-16T12:02:58.680073Z",
     "shell.execute_reply": "2020-11-16T12:02:58.678269Z",
     "shell.execute_reply.started": "2020-11-16T12:02:58.663462Z"
    }
   },
   "outputs": [
    {
     "name": "stdout",
     "output_type": "stream",
     "text": [
      "[0 1 2 3 4 5 6 7 8 9]\n"
     ]
    }
   ],
   "source": [
    "a = np.arange(10)\n",
    "print(a)"
   ]
  },
  {
   "cell_type": "markdown",
   "metadata": {},
   "source": [
    "Compute the array $b=a \\cdot 5$:"
   ]
  },
  {
   "cell_type": "code",
   "execution_count": 4,
   "metadata": {
    "execution": {
     "iopub.execute_input": "2020-11-16T12:02:59.448544Z",
     "iopub.status.busy": "2020-11-16T12:02:59.447638Z",
     "iopub.status.idle": "2020-11-16T12:02:59.464777Z",
     "shell.execute_reply": "2020-11-16T12:02:59.461661Z",
     "shell.execute_reply.started": "2020-11-16T12:02:59.448448Z"
    }
   },
   "outputs": [
    {
     "name": "stdout",
     "output_type": "stream",
     "text": [
      "[ 0  5 10 15 20 25 30 35 40 45]\n"
     ]
    }
   ],
   "source": [
    "b = a*5\n",
    "print(b)"
   ]
  },
  {
   "cell_type": "markdown",
   "metadata": {},
   "source": [
    "Plot a graph of these arrays"
   ]
  },
  {
   "cell_type": "code",
   "execution_count": 5,
   "metadata": {
    "execution": {
     "iopub.execute_input": "2020-11-16T12:03:00.681973Z",
     "iopub.status.busy": "2020-11-16T12:03:00.681318Z",
     "iopub.status.idle": "2020-11-16T12:03:00.847570Z",
     "shell.execute_reply": "2020-11-16T12:03:00.846877Z",
     "shell.execute_reply.started": "2020-11-16T12:03:00.681864Z"
    }
   },
   "outputs": [
    {
     "data": {
      "image/png": "[encoded data removed]",
      "text/plain": [
       "<Figure size 432x288 with 1 Axes>"
      ]
     },
     "metadata": {
      "needs_background": "light"
     },
     "output_type": "display_data"
    }
   ],
   "source": [
    "%matplotlib inline\n",
    "\n",
    "plt.plot(a,b, \"ro-\")\n",
    "plt.show()"
   ]
  },
  {
   "cell_type": "markdown",
   "metadata": {},
   "source": [
    "As we can combine coding, documenting and executing codes, we can develop the prgram interactively. The Jupyter notebook is also not limited only to Python but supports also over 40 programming languages including R, Julia, and Scala."
   ]
  },
  {
   "cell_type": "markdown",
   "metadata": {},
   "source": [
    "## Use the Jupyter Notebook\n",
    "\n",
    "* Local installation\n",
    "\n",
    "    * Jupyter Notebook is a web-based application. Each notebook has its own tab on the web browser.\n",
    "      <figure>\n",
    "          <img src=\"images/jupyterpreview.png\" width=\"600\" height=auto />\n",
    "         <figcaption style=\"text-align:right\">Image source: https://jupyter.org/ </figcaption>\n",
    "      </figure> \n",
    "\n",
    "    * Jupyter Lab is also a web-based application and gathers all notebooks in one place    \n",
    "     <figure text-align=\"center\">\n",
    "         <img src=\"images/labpreview.png\" width=\"1000\" height=auto />\n",
    "         <figcaption style=\"text-align:right\">Image source: https://jupyter.org/ </figcaption>\n",
    "     </figure> \n",
    "    \n",
    "    \n",
    "* Jupyter Hub server: a multi-user hub, e.g., on a virtual machine on the cloud\n",
    "\n",
    "\n",
    "* Public cloud-based services\n",
    "    * [Google Colab](https://colab.research.google.com/notebooks/intro.ipynb#)\n",
    "    * [MyBinder](https://mybinder.org/) \n",
    "    * [EGI Notebooks](https://www.egi.eu/services/notebooks/)"
   ]
  },
  {
   "cell_type": "markdown",
   "metadata": {},
   "source": [
    "## Install & run the Jupyter Notebook\n",
    "\n",
    "* Option 1: Anaconda includes Python, Jupyter, Python packages for scientific computing and data science.\n",
    "    * [Download Anaconda with Python3](https://www.anaconda.com/products/individual)\n",
    "    * Install Anaconda\n",
    "   \n",
    "    \n",
    "    \n",
    "* Option 2: Using `pip`\n",
    "    * [Download Python3](https://www.python.org/downloads/)\n",
    "    * Install Python3\n",
    "    * In a terminal,\n",
    "    ```bash\n",
    "    $ pip3 install --upgrade pip\n",
    "    ```\n",
    "    \n",
    "    ```bash\n",
    "    $ pip3 install jupyter\n",
    "    ```\n",
    "\n",
    "\n",
    "* Run the notebook in a terminal,\n",
    "\n",
    "    ```bash\n",
    "    $ jupyter notebook\n",
    "    ``` "
   ]
  },
  {
   "cell_type": "markdown",
   "metadata": {},
   "source": [
    "# openBIS & Jupyter\n",
    "\n",
    "Here we would like to demonstrate how to cooperate an openBIS server, which is for data management & ELN-LIMS, with a Jupyter notebook in which you can interactively perform data analysis.\n",
    "\n",
    "**Demo 1: From Jupyter to openBIS**\n",
    "<br>\n",
    "<br>\n",
    "<img src=\"images/option1.png\" width=\"600\" height=auto />\n",
    "\n",
    "**Demo 2: From openBIS to Jupyter**\n",
    "<br>\n",
    "<br>\n",
    "<img src=\"images/option2.png\" width=\"600\" height=auto />"
   ]
  },
  {
   "cell_type": "markdown",
   "metadata": {},
   "source": [
    "## Prepare a project\n",
    "\n",
    "\n",
    "* Download the openbis-training repository\n",
    "```bash\n",
    "$ git clone https://gitlab.ethz.ch/sis-rdm-training/openbis-training.git\n",
    "```\n",
    "\n",
    "\n",
    "* On a browser, go to https://openbis-training.ethz.ch/openbis/webapp/eln-lims/\n",
    "* Go to Lab Notebook > My Space\n",
    "* Create a new project `+ New project`\n",
    "    * Code(*): Training\n",
    "    * Click `Save`\n",
    "* Under the project `Training`, create an experiment `+ New` > `Default Experiment`\n",
    "    * Code(*): JUPYTER-DEMO\n",
    "    * Click `Save`\n",
    "* Under the experiment `JUPYTER-DEMO`, create an experiment step `+ New` > `Experimental Step`\n",
    "    * Name: JUPYTER-DEMO\n",
    "    * Click `Save`\n",
    "* Under the experimental step, upload an image, click on `Upload`\n",
    "    * Data Set Type(*): Raw Data\n",
    "    * Click on `Select files to upload`\n",
    "    * Select the image `blob.tif`\n",
    "    * Click `Save`"
   ]
  },
  {
   "cell_type": "markdown",
   "metadata": {},
   "source": [
    "## Prepare an environment for Demo 1\n",
    "\n",
    "* Install packages\n",
    "```bash\n",
    "$ pip install --upgrade numpy matplotlib scikit-image\n",
    "```\n",
    "\n",
    "\n",
    "* Install jupyter-openbis extension\n",
    "```bash\n",
    "$ pip install --upgrade jupyter-openbis-extension\n",
    "$ jupyter serverextension enable --py jupyter-openbis-server\n",
    "```"
   ]
  },
  {
   "cell_type": "markdown",
   "metadata": {},
   "source": [
    "## Demo 1: From Jupyter to openBIS\n",
    "\n",
    "<br>\n",
    "<br>\n",
    "<img src=\"images/option1.png\" width=\"600\" height=auto />"
   ]
  },
  {
   "cell_type": "markdown",
   "metadata": {},
   "source": [
    "### Configure the connection from a Jupyter notebook to the openBIS database\n",
    "\n",
    "* Open a Jupyter notebook\n",
    "* Click on `configure openBIS connections`\n",
    "* Enter \n",
    "    * Name: openbis-training\n",
    "    * URL: https://openbis-training.ethz.ch/openbis/webapp/eln-lims/\n",
    "    * Your username and password\n",
    "    * Click `Create`\n",
    "* After the status shows `connected`, choose this connection and click `Choose connection`\n",
    "    "
   ]
  },
  {
   "cell_type": "markdown",
   "metadata": {},
   "source": [
    "### Download a dataset\n",
    "* Go to the lab notebook\n",
    "   * Click on the dataset > `More...` > `Show Identification Info`\n",
    "    * Copy the path under `Object:`, e.g., /JARUNANP_JARUNANP/TRAINING/JUPYTER-DEMO\n",
    "* Go to the Jupyter notebook\n",
    "    * Click on `Download openBIS datasets`\n",
    "    * Paste the path to `Entity Identifier/permid:`\n",
    "    * Click `show datasets`\n",
    "    * Select the dataset and click `Download`"
   ]
  },
  {
   "cell_type": "markdown",
   "metadata": {},
   "source": [
    "### Run the image anylasis \n",
    "\n",
    "Open `Jupyter_Demo_Notebook.ipynb` and run the analysis until the end."
   ]
  },
  {
   "cell_type": "markdown",
   "metadata": {},
   "source": [
    "### Upload the notebook and data to openBIS\n",
    "\n",
    "* Select `File` > `Save and checkpoint` to save your work\n",
    "* Select `File` > `Download as` > `HTML` to create a static version of the notebook\n",
    "* Click `upload Notebook and Data to openBIS` in the menu toolbar and fill in the dataset information\n",
    "    * choose a dataSet type: ANALYSIS_NOTEBOOK\n",
    "    * Name: first analysis\n",
    "    * Notes: results look good\n",
    "    * enter a sample/experiment identifier to attach this dataSet to: /JARUNANP_JARUNANP/TRAINING/JUPYTER-DEMO\n",
    "    * uncheck all parent datasets\n",
    "    * select files to upload:\n",
    "        * Jupyter_Demo_Notebook.html\n",
    "        * Jupyter_Demo_Notebook.ipynb"
   ]
  },
  {
   "cell_type": "markdown",
   "metadata": {},
   "source": [
    "## Demo 2: From openBIS to Jupyter\n",
    "\n",
    "<br>\n",
    "<br>\n",
    "<img src=\"images/option2.png\" width=\"600\" height=auto />"
   ]
  },
  {
   "cell_type": "markdown",
   "metadata": {},
   "source": [
    "### Open a Jupyter notebook from openBIS\n",
    "\n",
    "* In the lab notebook, click on the experimental step `JUPYTER-DEMO`\n",
    "* Click on `More...`\n",
    "* Select `New Jupyter notebook`\n",
    "* Press `Create & connect`\n",
    "* In the next widget, fill in\n",
    "    * Directory Name: training\n",
    "    * Notebook Name: analysis_1\n",
    "* Press `Accept & Open`\n",
    "* Login to Jupyter Hub with your username and password"
   ]
  },
  {
   "cell_type": "markdown",
   "metadata": {},
   "source": [
    "### Connect and download a dataset\n",
    "\n",
    "* Connect to openBIS by running the cell:\n",
    "\n",
    "  ```\n",
    "  from pybis import Openbis\n",
    "  o = Openbis()\n",
    "  ```\n",
    "\n",
    "  If an error message shows \"Session is no longer valid. Please log in again.\", add a cell with your login username\n",
    "\n",
    "  ```\n",
    "  o.login(username='jarunanp')\n",
    "  ```\n",
    "  \n",
    "* Download a dataset\n",
    "* Under the section Process the data, copy analysis process from `Jupyter_Demo_Notebook.ipynb`\n",
    "* Under the section Saving the results, change type to `ANALYSIS_NOTEBOOK`\n",
    "* Upload the notebook back to openBIS"
   ]
  },
  {
   "cell_type": "code",
   "execution_count": null,
   "metadata": {},
   "outputs": [],
   "source": []
  }
 ],
 "metadata": {
  "datasets": {
   "20200814125627110-690": {
    "dataStore": "DSS1",
    "files": [
     "original/blobs.tif"
    ],
    "location": "1CC55CFC-0BFD-49C0-9952-60C1964FEF6C/88/ad/7a/20200814125627110-690",
    "path": "/home/jarunanp/siswork/sis-projects/20_08_openbis_training/openbis-training/Jupyter/jarunan/20200814125627110-690",
    "permId": "20200814125627110-690",
    "size": 65172,
    "status": "Data for DataSet 20200814125627110-690 was successfully downloaded to: /home/jarunanp/siswork/sis-projects/20_08_openbis_training/openbis-training/Jupyter/jarunan/20200814125627110-690"
   }
  },
  "kernelspec": {
   "display_name": "Python 3",
   "language": "python",
   "name": "python3"
  },
  "language_info": {
   "codemirror_mode": {
    "name": "ipython",
    "version": 3
   },
   "file_extension": ".py",
   "mimetype": "text/x-python",
   "name": "python",
   "nbconvert_exporter": "python",
   "pygments_lexer": "ipython3",
   "version": "3.6.9"
  },
  "toc": {
   "base_numbering": 1,
   "nav_menu": {},
   "number_sections": true,
   "sideBar": true,
   "skip_h1_title": false,
   "title_cell": "Table of Contents",
   "title_sidebar": "Contents",
   "toc_cell": false,
   "toc_position": {
    "height": "calc(100% - 180px)",
    "left": "10px",
    "top": "150px",
    "width": "290.367px"
   },
   "toc_section_display": true,
   "toc_window_display": false
  }
 },
 "nbformat": 4,
 "nbformat_minor": 4
}
